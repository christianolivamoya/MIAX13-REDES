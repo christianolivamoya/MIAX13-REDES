{
  "cells": [
    {
      "cell_type": "markdown",
      "metadata": {
        "id": "FSJH2HrzcRtl"
      },
      "source": [
        "### Keras Tuner con el problema MNIST\n",
        "\n",
        "Keras Tuner es una librería bastante reciente que simplifica en gran medida el ajuste de los hiperparámetros de una red neuronal. Toda la documentación en este enlace:\n",
        "\n",
        "https://keras-team.github.io/keras-tuner/"
      ]
    },
    {
      "cell_type": "code",
      "execution_count": 1,
      "metadata": {
        "id": "frKu1s3FcYRE"
      },
      "outputs": [],
      "source": [
        "import keras_tuner as kt"
      ]
    },
    {
      "cell_type": "markdown",
      "metadata": {
        "id": "xGFO0vTCc8ki"
      },
      "source": [
        "Carga de los datos:"
      ]
    },
    {
      "cell_type": "code",
      "execution_count": 2,
      "metadata": {
        "id": "vjbwVPiUdEJB"
      },
      "outputs": [],
      "source": [
        "import tensorflow as tf\n",
        "from tensorflow import keras\n",
        "\n",
        "import numpy as np\n",
        "import matplotlib.pyplot as plt\n",
        "from time import time\n",
        "import shutil"
      ]
    },
    {
      "cell_type": "code",
      "execution_count": 3,
      "metadata": {
        "id": "Nzz8BdOUcbne"
      },
      "outputs": [],
      "source": [
        "(img_train, label_train), (img_test, label_test) = keras.datasets.mnist.load_data()"
      ]
    },
    {
      "cell_type": "markdown",
      "metadata": {
        "id": "2n5UXqbddNQs"
      },
      "source": [
        "Normalización:"
      ]
    },
    {
      "cell_type": "code",
      "execution_count": 4,
      "metadata": {
        "id": "IQoq8ktJc-3h"
      },
      "outputs": [],
      "source": [
        "img_train = img_train.astype('float32') / 255.0\n",
        "img_test = img_test.astype('float32') / 255.0"
      ]
    },
    {
      "cell_type": "markdown",
      "metadata": {
        "id": "rPWPjsHHdVz_"
      },
      "source": [
        "Lo primero que hay que hacer es definir un hipermodelo, que es una función que genera un modelo de Keras que depende de unos hiperparámetros con los que vamos a jugar. Los hiperparámetros se muestrean a partir del argumento ``hp`` de la función.\n",
        "\n",
        "En este ejemplo sólo vamos a ajustar la constante de regularización de la capa oculta:"
      ]
    },
    {
      "cell_type": "code",
      "execution_count": 5,
      "metadata": {
        "id": "f5IC7NNWdPl7"
      },
      "outputs": [],
      "source": [
        "def model_builder(hp):\n",
        "  hp_lambda = hp.Choice('lambda', values = [1.0, 0.1, 0.01, 0.001, 0.0001])\n",
        "  hp_lr = hp.Choice('lr', values = [1.0, 0.1, 0.01, 0.001, 0.0001])\n",
        "\n",
        "  model = keras.Sequential()\n",
        "  model.add(keras.layers.Input(shape=(28, 28)))\n",
        "  model.add(keras.layers.Flatten())\n",
        "  model.add(keras.layers.Dense(units = 50, activation = 'relu', kernel_regularizer=keras.regularizers.l2(hp_lambda)))\n",
        "  model.add(keras.layers.Dense(10, activation=\"softmax\"))\n",
        "\n",
        "  model.compile(optimizer=keras.optimizers.Adam(learning_rate=hp_lr),\n",
        "                loss='sparse_categorical_crossentropy',\n",
        "                metrics=['acc'])\n",
        "\n",
        "  return model"
      ]
    },
    {
      "cell_type": "markdown",
      "metadata": {
        "id": "cuDc21Ywiw54"
      },
      "source": [
        "Borramos el directorio de logs:"
      ]
    },
    {
      "cell_type": "code",
      "execution_count": 6,
      "metadata": {
        "id": "7DZu0e-ODexK"
      },
      "outputs": [],
      "source": [
        "!rm -rf my_dir/intro_to_kt/"
      ]
    },
    {
      "cell_type": "markdown",
      "metadata": {
        "id": "tpih_C7gfIfs"
      },
      "source": [
        "Lo siguiente es crear un ``tuner`` para hacer el ajuste de los hiperparámetros. Existen distintos tipos:\n",
        "\n",
        "- RandomSearch\n",
        "- Hyperband\n",
        "- BayesianOptimization\n",
        "- Sklearn\n",
        "\n",
        "Lo más fácil es hacer una búsqueda aleatoria con ``RandomSearch``. Al crear el ``tuner`` hay que especificar:\n",
        "\n",
        "- El hipermodelo.\n",
        "- La variable a optimizar.\n",
        "- El número total de pruebas.\n",
        "- El número de ejecuciones por prueba."
      ]
    },
    {
      "cell_type": "code",
      "execution_count": 7,
      "metadata": {
        "id": "-Ro9f8hEhjMP"
      },
      "outputs": [],
      "source": [
        "tuner = kt.RandomSearch(model_builder,\n",
        "                        objective='val_acc',\n",
        "                        max_trials=10,\n",
        "                        executions_per_trial=3,\n",
        "                        directory='my_dir',\n",
        "                        project_name='intro_to_kt')"
      ]
    },
    {
      "cell_type": "markdown",
      "metadata": {
        "id": "x_3DHrn5jFad"
      },
      "source": [
        "Un resumen del espacio de búsqueda:"
      ]
    },
    {
      "cell_type": "code",
      "execution_count": 8,
      "metadata": {
        "colab": {
          "base_uri": "https://localhost:8080/"
        },
        "id": "xrhSs7GfiGMa",
        "outputId": "2bb83ed4-db0b-460c-8ea1-df6987ef4de1"
      },
      "outputs": [
        {
          "output_type": "stream",
          "name": "stdout",
          "text": [
            "Search space summary\n",
            "Default search space size: 2\n",
            "lambda (Choice)\n",
            "{'default': 1.0, 'conditions': [], 'values': [1.0, 0.1, 0.01, 0.001, 0.0001], 'ordered': True}\n",
            "lr (Choice)\n",
            "{'default': 1.0, 'conditions': [], 'values': [1.0, 0.1, 0.01, 0.001, 0.0001], 'ordered': True}\n"
          ]
        }
      ],
      "source": [
        "tuner.search_space_summary()"
      ]
    },
    {
      "cell_type": "markdown",
      "metadata": {
        "id": "YkzNlblxjKip"
      },
      "source": [
        "Y lanzamos la búsqueda:"
      ]
    },
    {
      "cell_type": "code",
      "execution_count": 9,
      "metadata": {
        "colab": {
          "base_uri": "https://localhost:8080/"
        },
        "id": "RI1mly4aiGJ-",
        "outputId": "eb871b48-151e-4532-c15c-442c0873644d"
      },
      "outputs": [
        {
          "output_type": "stream",
          "name": "stdout",
          "text": [
            "Trial 10 Complete [00h 00m 21s]\n",
            "val_acc: 0.8803999821345011\n",
            "\n",
            "Best val_acc So Far: 0.9199000000953674\n",
            "Total elapsed time: 00h 03m 55s\n"
          ]
        }
      ],
      "source": [
        "tuner.search(img_train, label_train,\n",
        "             epochs=1,\n",
        "             validation_data=(img_test, label_test))"
      ]
    },
    {
      "cell_type": "markdown",
      "metadata": {
        "id": "809PZQkKmfxV"
      },
      "source": [
        "Acceso al mejor modelo. Hay que tener en cuenta que ya está entrenado, y siempre es mejor reentrenarlo con todos los datos."
      ]
    },
    {
      "cell_type": "code",
      "execution_count": 10,
      "metadata": {
        "colab": {
          "base_uri": "https://localhost:8080/"
        },
        "id": "m4UW2OlcmeF6",
        "outputId": "b987935e-e0f1-452d-e64c-4fa2dabb50e5"
      },
      "outputs": [
        {
          "output_type": "stream",
          "name": "stderr",
          "text": [
            "/usr/local/lib/python3.11/dist-packages/keras/src/saving/saving_lib.py:757: UserWarning: Skipping variable loading for optimizer 'adam', because it has 2 variables whereas the saved optimizer has 10 variables. \n",
            "  saveable.load_own_variables(weights_store.get(inner_path))\n"
          ]
        },
        {
          "output_type": "stream",
          "name": "stdout",
          "text": [
            "\u001b[1m313/313\u001b[0m \u001b[32m━━━━━━━━━━━━━━━━━━━━\u001b[0m\u001b[37m\u001b[0m \u001b[1m1s\u001b[0m 2ms/step - acc: 0.9089 - loss: 0.4729\n"
          ]
        },
        {
          "output_type": "execute_result",
          "data": {
            "text/plain": [
              "[0.43340086936950684, 0.920799970626831]"
            ]
          },
          "metadata": {},
          "execution_count": 10
        }
      ],
      "source": [
        "best_model = tuner.get_best_models()[0]\n",
        "best_model.evaluate(img_test, label_test)"
      ]
    },
    {
      "cell_type": "markdown",
      "metadata": {
        "id": "stB6fGYnnaS1"
      },
      "source": [
        "Resumen de los resultados:"
      ]
    },
    {
      "cell_type": "code",
      "execution_count": 11,
      "metadata": {
        "colab": {
          "base_uri": "https://localhost:8080/"
        },
        "id": "I7f890friGFj",
        "outputId": "01e2e901-0f05-4400-cfe1-d42f0908e903"
      },
      "outputs": [
        {
          "output_type": "stream",
          "name": "stdout",
          "text": [
            "Results summary\n",
            "Results in my_dir/intro_to_kt\n",
            "Showing 10 best trials\n",
            "Objective(name=\"val_acc\", direction=\"max\")\n",
            "\n",
            "Trial 04 summary\n",
            "Hyperparameters:\n",
            "lambda: 0.01\n",
            "lr: 0.001\n",
            "Score: 0.9199000000953674\n",
            "\n",
            "Trial 02 summary\n",
            "Hyperparameters:\n",
            "lambda: 0.001\n",
            "lr: 0.0001\n",
            "Score: 0.9015666643778483\n",
            "\n",
            "Trial 00 summary\n",
            "Hyperparameters:\n",
            "lambda: 0.0001\n",
            "lr: 0.0001\n",
            "Score: 0.9011333187421163\n",
            "\n",
            "Trial 03 summary\n",
            "Hyperparameters:\n",
            "lambda: 0.01\n",
            "lr: 0.0001\n",
            "Score: 0.8956000010172526\n",
            "\n",
            "Trial 09 summary\n",
            "Hyperparameters:\n",
            "lambda: 0.01\n",
            "lr: 0.01\n",
            "Score: 0.8803999821345011\n",
            "\n",
            "Trial 08 summary\n",
            "Hyperparameters:\n",
            "lambda: 1.0\n",
            "lr: 0.001\n",
            "Score: 0.8059333364168803\n",
            "\n",
            "Trial 05 summary\n",
            "Hyperparameters:\n",
            "lambda: 1.0\n",
            "lr: 0.01\n",
            "Score: 0.6856666604677836\n",
            "\n",
            "Trial 07 summary\n",
            "Hyperparameters:\n",
            "lambda: 0.0001\n",
            "lr: 0.1\n",
            "Score: 0.5072000126043955\n",
            "\n",
            "Trial 01 summary\n",
            "Hyperparameters:\n",
            "lambda: 0.1\n",
            "lr: 1.0\n",
            "Score: 0.10339999943971634\n",
            "\n",
            "Trial 06 summary\n",
            "Hyperparameters:\n",
            "lambda: 0.001\n",
            "lr: 1.0\n",
            "Score: 0.10053333640098572\n"
          ]
        }
      ],
      "source": [
        "tuner.results_summary()"
      ]
    },
    {
      "cell_type": "markdown",
      "metadata": {
        "id": "dI4KzenznfeS"
      },
      "source": [
        "Obtenemos los parámetros del mejor modelo y lo reentrenamos:"
      ]
    },
    {
      "cell_type": "code",
      "execution_count": 12,
      "metadata": {
        "colab": {
          "base_uri": "https://localhost:8080/"
        },
        "id": "AKbxSwP6iGDC",
        "outputId": "a5c5f4bf-125a-4c00-d265-505e3cb31af6"
      },
      "outputs": [
        {
          "output_type": "stream",
          "name": "stdout",
          "text": [
            "Epoch 1/10\n",
            "\u001b[1m1875/1875\u001b[0m \u001b[32m━━━━━━━━━━━━━━━━━━━━\u001b[0m\u001b[37m\u001b[0m \u001b[1m8s\u001b[0m 3ms/step - acc: 0.8468 - loss: 0.8775 - val_acc: 0.9239 - val_loss: 0.4169\n",
            "Epoch 2/10\n",
            "\u001b[1m1875/1875\u001b[0m \u001b[32m━━━━━━━━━━━━━━━━━━━━\u001b[0m\u001b[37m\u001b[0m \u001b[1m4s\u001b[0m 2ms/step - acc: 0.9173 - loss: 0.4286 - val_acc: 0.9341 - val_loss: 0.3642\n",
            "Epoch 3/10\n",
            "\u001b[1m1875/1875\u001b[0m \u001b[32m━━━━━━━━━━━━━━━━━━━━\u001b[0m\u001b[37m\u001b[0m \u001b[1m5s\u001b[0m 3ms/step - acc: 0.9299 - loss: 0.3698 - val_acc: 0.9432 - val_loss: 0.3211\n",
            "Epoch 4/10\n",
            "\u001b[1m1875/1875\u001b[0m \u001b[32m━━━━━━━━━━━━━━━━━━━━\u001b[0m\u001b[37m\u001b[0m \u001b[1m9s\u001b[0m 2ms/step - acc: 0.9391 - loss: 0.3331 - val_acc: 0.9433 - val_loss: 0.3155\n",
            "Epoch 5/10\n",
            "\u001b[1m1875/1875\u001b[0m \u001b[32m━━━━━━━━━━━━━━━━━━━━\u001b[0m\u001b[37m\u001b[0m \u001b[1m5s\u001b[0m 3ms/step - acc: 0.9431 - loss: 0.3170 - val_acc: 0.9427 - val_loss: 0.2979\n",
            "Epoch 6/10\n",
            "\u001b[1m1875/1875\u001b[0m \u001b[32m━━━━━━━━━━━━━━━━━━━━\u001b[0m\u001b[37m\u001b[0m \u001b[1m4s\u001b[0m 2ms/step - acc: 0.9466 - loss: 0.2966 - val_acc: 0.9494 - val_loss: 0.2816\n",
            "Epoch 7/10\n",
            "\u001b[1m1875/1875\u001b[0m \u001b[32m━━━━━━━━━━━━━━━━━━━━\u001b[0m\u001b[37m\u001b[0m \u001b[1m6s\u001b[0m 3ms/step - acc: 0.9472 - loss: 0.2904 - val_acc: 0.9534 - val_loss: 0.2678\n",
            "Epoch 8/10\n",
            "\u001b[1m1875/1875\u001b[0m \u001b[32m━━━━━━━━━━━━━━━━━━━━\u001b[0m\u001b[37m\u001b[0m \u001b[1m9s\u001b[0m 2ms/step - acc: 0.9490 - loss: 0.2789 - val_acc: 0.9547 - val_loss: 0.2543\n",
            "Epoch 9/10\n",
            "\u001b[1m1875/1875\u001b[0m \u001b[32m━━━━━━━━━━━━━━━━━━━━\u001b[0m\u001b[37m\u001b[0m \u001b[1m5s\u001b[0m 3ms/step - acc: 0.9517 - loss: 0.2702 - val_acc: 0.9562 - val_loss: 0.2567\n",
            "Epoch 10/10\n",
            "\u001b[1m1875/1875\u001b[0m \u001b[32m━━━━━━━━━━━━━━━━━━━━\u001b[0m\u001b[37m\u001b[0m \u001b[1m10s\u001b[0m 3ms/step - acc: 0.9542 - loss: 0.2625 - val_acc: 0.9489 - val_loss: 0.2766\n"
          ]
        },
        {
          "output_type": "execute_result",
          "data": {
            "text/plain": [
              "<keras.src.callbacks.history.History at 0x7fa695ca00d0>"
            ]
          },
          "metadata": {},
          "execution_count": 12
        }
      ],
      "source": [
        "best_hps = tuner.get_best_hyperparameters()[0]\n",
        "model = tuner.hypermodel.build(best_hps)\n",
        "model.fit(img_train, label_train, epochs = 10, validation_data = (img_test, label_test))"
      ]
    },
    {
      "cell_type": "markdown",
      "metadata": {
        "id": "6fXM2bnKoAd2"
      },
      "source": [
        "#### Otro ejemplo:\n",
        "\n",
        "Ajuste del learning rate, el parámetro de regularización y el número de neuronas en la capa oculta con un tuner de tipo hyperband.\n",
        "\n",
        "https://arxiv.org/pdf/1603.06560.pdf"
      ]
    },
    {
      "cell_type": "markdown",
      "metadata": {
        "id": "3B4EUcR_oXk7"
      },
      "source": [
        "Hipermodelo:"
      ]
    },
    {
      "cell_type": "code",
      "execution_count": 14,
      "metadata": {
        "id": "KGY_10POqTGd"
      },
      "outputs": [],
      "source": [
        "def model_builder_2(hp):\n",
        "  hp_lambda = hp.Choice('lambda', values = [0.001, 0.0001])\n",
        "  hp_units = hp.Int('units', min_value = 32, max_value = 128, step = 32)\n",
        "  hp_learning_rate = hp.Choice('learning_rate', values = [1.0, 0.1, 0.01, 0.001])\n",
        "\n",
        "  model = keras.Sequential()\n",
        "  model.add(keras.layers.Input(shape=(28, 28)))\n",
        "  model.add(keras.layers.Flatten())\n",
        "  model.add(keras.layers.Dense(units = hp_units, activation = 'relu', kernel_regularizer=keras.regularizers.l2(hp_lambda)))\n",
        "  model.add(keras.layers.Dense(10, activation=\"softmax\"))\n",
        "\n",
        "  model.compile(optimizer=keras.optimizers.Adam(learning_rate=hp_learning_rate),\n",
        "                loss='sparse_categorical_crossentropy',\n",
        "                metrics=['acc'])\n",
        "\n",
        "  return model"
      ]
    },
    {
      "cell_type": "markdown",
      "metadata": {
        "id": "9tdO2SfvqoeE"
      },
      "source": [
        "Borramos la carpeta de logs:"
      ]
    },
    {
      "cell_type": "code",
      "execution_count": 15,
      "metadata": {
        "id": "3VyHbj5AqjCU"
      },
      "outputs": [],
      "source": [
        "!rm -rf my_dir/intro_hyperband/"
      ]
    },
    {
      "cell_type": "markdown",
      "metadata": {
        "id": "QmMlP-2Yq8XW"
      },
      "source": [
        "Creamos el tuner:"
      ]
    },
    {
      "cell_type": "code",
      "execution_count": 16,
      "metadata": {
        "id": "E_Z2Q7U-qvxQ"
      },
      "outputs": [],
      "source": [
        "tuner = kt.Hyperband(model_builder_2,\n",
        "                     objective = 'val_acc',\n",
        "                     max_epochs = 10,\n",
        "                     factor = 3,\n",
        "                     directory = 'my_dir',\n",
        "                     project_name = 'intro_hyperband')"
      ]
    },
    {
      "cell_type": "markdown",
      "metadata": {
        "id": "dZaE4k03riQ-"
      },
      "source": [
        "Resumen del espacio de búsqueda:"
      ]
    },
    {
      "cell_type": "code",
      "execution_count": 17,
      "metadata": {
        "colab": {
          "base_uri": "https://localhost:8080/"
        },
        "id": "7f5pJ8RarNSo",
        "outputId": "173bee42-aabc-426b-c1b0-4929136ae958"
      },
      "outputs": [
        {
          "output_type": "stream",
          "name": "stdout",
          "text": [
            "Search space summary\n",
            "Default search space size: 3\n",
            "lambda (Choice)\n",
            "{'default': 0.001, 'conditions': [], 'values': [0.001, 0.0001], 'ordered': True}\n",
            "units (Int)\n",
            "{'default': None, 'conditions': [], 'min_value': 32, 'max_value': 128, 'step': 32, 'sampling': 'linear'}\n",
            "learning_rate (Choice)\n",
            "{'default': 1.0, 'conditions': [], 'values': [1.0, 0.1, 0.01, 0.001], 'ordered': True}\n"
          ]
        }
      ],
      "source": [
        "tuner.search_space_summary()"
      ]
    },
    {
      "cell_type": "markdown",
      "metadata": {
        "id": "a9_pL4j_ruIh"
      },
      "source": [
        "Búsqueda:"
      ]
    },
    {
      "cell_type": "code",
      "execution_count": 18,
      "metadata": {
        "colab": {
          "base_uri": "https://localhost:8080/"
        },
        "id": "Zb6u2IM9rkzP",
        "outputId": "eb3bf8b1-8de2-4891-a8b2-ef9aab3470b9"
      },
      "outputs": [
        {
          "output_type": "stream",
          "name": "stdout",
          "text": [
            "Trial 30 Complete [00h 01m 06s]\n",
            "val_acc: 0.5182999968528748\n",
            "\n",
            "Best val_acc So Far: 0.9787999987602234\n",
            "Total elapsed time: 00h 16m 00s\n"
          ]
        }
      ],
      "source": [
        "tuner.search(img_train, label_train,\n",
        "             epochs=10,\n",
        "             validation_data=(img_test, label_test))"
      ]
    },
    {
      "cell_type": "markdown",
      "metadata": {
        "id": "jHnstDTNvlPv"
      },
      "source": [
        "Mejores hiperparámetros:"
      ]
    },
    {
      "cell_type": "code",
      "execution_count": 19,
      "metadata": {
        "colab": {
          "base_uri": "https://localhost:8080/"
        },
        "id": "am37bJ8kr5-Q",
        "outputId": "182fee1c-4196-4e70-ac8c-1b1a0ad33767"
      },
      "outputs": [
        {
          "output_type": "execute_result",
          "data": {
            "text/plain": [
              "{'lambda': 0.0001,\n",
              " 'units': 96,\n",
              " 'learning_rate': 0.001,\n",
              " 'tuner/epochs': 10,\n",
              " 'tuner/initial_epoch': 0,\n",
              " 'tuner/bracket': 0,\n",
              " 'tuner/round': 0}"
            ]
          },
          "metadata": {},
          "execution_count": 19
        }
      ],
      "source": [
        "best_hps = tuner.get_best_hyperparameters()[0]\n",
        "best_hps.values"
      ]
    },
    {
      "cell_type": "markdown",
      "metadata": {
        "id": "KGPm3eoNv059"
      },
      "source": [
        "Reentrenamiento del modelo:"
      ]
    },
    {
      "cell_type": "code",
      "execution_count": 20,
      "metadata": {
        "colab": {
          "base_uri": "https://localhost:8080/"
        },
        "id": "twIEolPSuMFn",
        "outputId": "fb463432-900c-422c-a765-69c1d647fec8"
      },
      "outputs": [
        {
          "output_type": "stream",
          "name": "stdout",
          "text": [
            "Epoch 1/10\n",
            "\u001b[1m1875/1875\u001b[0m \u001b[32m━━━━━━━━━━━━━━━━━━━━\u001b[0m\u001b[37m\u001b[0m \u001b[1m6s\u001b[0m 3ms/step - acc: 0.8648 - loss: 0.4818 - val_acc: 0.9473 - val_loss: 0.1980\n",
            "Epoch 2/10\n",
            "\u001b[1m1875/1875\u001b[0m \u001b[32m━━━━━━━━━━━━━━━━━━━━\u001b[0m\u001b[37m\u001b[0m \u001b[1m6s\u001b[0m 3ms/step - acc: 0.9603 - loss: 0.1611 - val_acc: 0.9665 - val_loss: 0.1345\n",
            "Epoch 3/10\n",
            "\u001b[1m1875/1875\u001b[0m \u001b[32m━━━━━━━━━━━━━━━━━━━━\u001b[0m\u001b[37m\u001b[0m \u001b[1m5s\u001b[0m 3ms/step - acc: 0.9723 - loss: 0.1229 - val_acc: 0.9740 - val_loss: 0.1163\n",
            "Epoch 4/10\n",
            "\u001b[1m1875/1875\u001b[0m \u001b[32m━━━━━━━━━━━━━━━━━━━━\u001b[0m\u001b[37m\u001b[0m \u001b[1m5s\u001b[0m 3ms/step - acc: 0.9773 - loss: 0.1069 - val_acc: 0.9677 - val_loss: 0.1338\n",
            "Epoch 5/10\n",
            "\u001b[1m1875/1875\u001b[0m \u001b[32m━━━━━━━━━━━━━━━━━━━━\u001b[0m\u001b[37m\u001b[0m \u001b[1m6s\u001b[0m 3ms/step - acc: 0.9812 - loss: 0.0950 - val_acc: 0.9729 - val_loss: 0.1187\n",
            "Epoch 6/10\n",
            "\u001b[1m1875/1875\u001b[0m \u001b[32m━━━━━━━━━━━━━━━━━━━━\u001b[0m\u001b[37m\u001b[0m \u001b[1m5s\u001b[0m 3ms/step - acc: 0.9832 - loss: 0.0876 - val_acc: 0.9770 - val_loss: 0.1059\n",
            "Epoch 7/10\n",
            "\u001b[1m1875/1875\u001b[0m \u001b[32m━━━━━━━━━━━━━━━━━━━━\u001b[0m\u001b[37m\u001b[0m \u001b[1m6s\u001b[0m 3ms/step - acc: 0.9858 - loss: 0.0823 - val_acc: 0.9780 - val_loss: 0.1050\n",
            "Epoch 8/10\n",
            "\u001b[1m1875/1875\u001b[0m \u001b[32m━━━━━━━━━━━━━━━━━━━━\u001b[0m\u001b[37m\u001b[0m \u001b[1m10s\u001b[0m 3ms/step - acc: 0.9872 - loss: 0.0771 - val_acc: 0.9779 - val_loss: 0.1056\n",
            "Epoch 9/10\n",
            "\u001b[1m1875/1875\u001b[0m \u001b[32m━━━━━━━━━━━━━━━━━━━━\u001b[0m\u001b[37m\u001b[0m \u001b[1m9s\u001b[0m 3ms/step - acc: 0.9888 - loss: 0.0722 - val_acc: 0.9785 - val_loss: 0.1046\n",
            "Epoch 10/10\n",
            "\u001b[1m1875/1875\u001b[0m \u001b[32m━━━━━━━━━━━━━━━━━━━━\u001b[0m\u001b[37m\u001b[0m \u001b[1m10s\u001b[0m 3ms/step - acc: 0.9899 - loss: 0.0695 - val_acc: 0.9780 - val_loss: 0.1067\n"
          ]
        },
        {
          "output_type": "execute_result",
          "data": {
            "text/plain": [
              "<keras.src.callbacks.history.History at 0x7fa6933c3c50>"
            ]
          },
          "metadata": {},
          "execution_count": 20
        }
      ],
      "source": [
        "model = tuner.hypermodel.build(best_hps)\n",
        "model.fit(img_train, label_train, epochs = 10, validation_data = (img_test, label_test))"
      ]
    },
    {
      "cell_type": "code",
      "execution_count": null,
      "metadata": {
        "id": "2F05bM8a-O3b"
      },
      "outputs": [],
      "source": []
    }
  ],
  "metadata": {
    "colab": {
      "provenance": []
    },
    "kernelspec": {
      "display_name": "Python 3 (ipykernel)",
      "language": "python",
      "name": "python3"
    },
    "language_info": {
      "codemirror_mode": {
        "name": "ipython",
        "version": 3
      },
      "file_extension": ".py",
      "mimetype": "text/x-python",
      "name": "python",
      "nbconvert_exporter": "python",
      "pygments_lexer": "ipython3",
      "version": "3.11.5"
    }
  },
  "nbformat": 4,
  "nbformat_minor": 0
}