{
 "cells": [
  {
   "cell_type": "markdown",
   "metadata": {
    "id": "mwth4jUyXe-F"
   },
   "source": [
    "<font color=\"#CA3532\"><h1 align=\"left\">Inteligencia Artificial Aplicada a la Bolsa (MIAX-13)</h1></font>\n",
    "<font color=\"#5b5a59\"><h2 align=\"left\">Implementación en python de una red neuronal sencilla con capas ocultas</h2></font>"
   ]
  },
  {
   "cell_type": "code",
   "execution_count": null,
   "metadata": {
    "executionInfo": {
     "elapsed": 6,
     "status": "ok",
     "timestamp": 1715880368672,
     "user": {
      "displayName": "Christian Oliva",
      "userId": "06496184645047625135"
     },
     "user_tz": -120
    },
    "id": "MGj5k8OFcO-u"
   },
   "outputs": [],
   "source": [
    "import numpy as np"
   ]
  },
  {
   "cell_type": "code",
   "execution_count": null,
   "metadata": {
    "executionInfo": {
     "elapsed": 5,
     "status": "ok",
     "timestamp": 1715880368672,
     "user": {
      "displayName": "Christian Oliva",
      "userId": "06496184645047625135"
     },
     "user_tz": -120
    },
    "id": "UL_jwuhzcO-y"
   },
   "outputs": [],
   "source": [
    "def sigmoid(z):\n",
    "    return 1.0/(1.0+np.exp(-z))"
   ]
  },
  {
   "cell_type": "code",
   "execution_count": null,
   "metadata": {
    "executionInfo": {
     "elapsed": 5,
     "status": "ok",
     "timestamp": 1715880368672,
     "user": {
      "displayName": "Christian Oliva",
      "userId": "06496184645047625135"
     },
     "user_tz": -120
    },
    "id": "V18FCuNBcO-1"
   },
   "outputs": [],
   "source": [
    "def dsigmoid(z):\n",
    "    return sigmoid(z)*(1.0 - sigmoid(z))"
   ]
  },
  {
   "cell_type": "markdown",
   "metadata": {
    "id": "NVTk83kacO-4"
   },
   "source": [
    "Definición de la clase red:"
   ]
  },
  {
   "cell_type": "code",
   "execution_count": null,
   "metadata": {
    "executionInfo": {
     "elapsed": 232,
     "status": "ok",
     "timestamp": 1715881430665,
     "user": {
      "displayName": "Christian Oliva",
      "userId": "06496184645047625135"
     },
     "user_tz": -120
    },
    "id": "wXN9DzMOcO-5"
   },
   "outputs": [],
   "source": [
    "class Red_1capa():\n",
    "\n",
    "    def __init__(self, d0=2, d1=10, d2=1):\n",
    "        self.W1 = np.random.randn(d0, d1)\n",
    "        self.W2 = np.random.randn(d1, d2)\n",
    "        self.b1 = np.random.randn(d1)\n",
    "        self.b2 = np.random.randn(d2)\n",
    "\n",
    "    def forward(self, x):\n",
    "        #----------------------------------------------------------\n",
    "        # TO-DO:\n",
    "        # x tiene que tener dimensiones (nxd0)\n",
    "        # Implementamos regresion\n",
    "        # Puedes probar el método con la prueba forward de más abajo\n",
    "        #----------------------------------------------------------\n",
    "        z1 = 0\n",
    "        a1 = 0\n",
    "        z2 = 0\n",
    "        y = 0\n",
    "\n",
    "        return z1, a1, z2, y\n",
    "\n",
    "    def backward(self, x, t):\n",
    "        z1, a1, z2, a2 = self.forward(x)\n",
    "\n",
    "        #----------------------------------------------------------\n",
    "        # TO-DO:\n",
    "        # x tiene que tener dimensiones (nxd0)\n",
    "        # t tiene que tener dimensiones (nxd2)\n",
    "        # Implementamos regresion, error cuadratico\n",
    "        # Puedes probar el método con la prueba backward de más abajo\n",
    "        #----------------------------------------------------------\n",
    "        db2 = 0\n",
    "        dW2 = 0\n",
    "        db1 = 0\n",
    "        dW1 = 0\n",
    "\n",
    "        return dW1, db1, dW2, db2\n",
    "\n",
    "    def gradient_step(self, x, t, eta):\n",
    "        dW1, db1, dW2, db2 = self.backward(x, t)\n",
    "        self.W1 -= eta*dW1\n",
    "        self.b1 -= eta*db1\n",
    "        self.W2 -= eta*dW2\n",
    "        self.b2 -= eta*db2\n",
    "\n",
    "    def mse(self, x, t):\n",
    "        _, _, _, y = self.forward(x)\n",
    "        mse = ((y - t)**2).mean()\n",
    "        return mse\n",
    "\n",
    "    def predict(self, x):\n",
    "      _, _, _, y = self.forward(x)\n",
    "      return y"
   ]
  },
  {
   "cell_type": "markdown",
   "metadata": {
    "id": "D-0asvsDPl5q"
   },
   "source": [
    "## <font color=\"#CA3532\">Prueba del método forward</font>"
   ]
  },
  {
   "cell_type": "code",
   "execution_count": null,
   "metadata": {
    "colab": {
     "base_uri": "https://localhost:8080/"
    },
    "executionInfo": {
     "elapsed": 5,
     "status": "ok",
     "timestamp": 1715881432710,
     "user": {
      "displayName": "Christian Oliva",
      "userId": "06496184645047625135"
     },
     "user_tz": -120
    },
    "id": "QInfmKFWcO-8",
    "outputId": "d6372ae2-35a1-4958-ff20-99e3e2033493"
   },
   "outputs": [],
   "source": [
    "# Inicializamos semilla de numeros aleatorios para tener resultados\n",
    "# reproducibles:\n",
    "np.random.seed(13)\n",
    "\n",
    "# Creamos vector de entrada aleatorio, de dimension 6:\n",
    "x = np.random.randn(1, 6)\n",
    "\n",
    "# Creamos una red [6, 10, 1]:\n",
    "r = Red_1capa(6, 10, 1)\n",
    "\n",
    "# Pasamos el vector de entrada por la red (forward):\n",
    "z1, a1, z2, y = r.forward(x)\n",
    "\n",
    "# Valores esperados:\n",
    "z1_esp = np.array([[-2.68367609,  1.19585829, -1.43997415,  1.09606746,  0.80109085,\n",
    "                    0.33719615, -2.11072374, -1.1805671 ,  2.88921984,  3.30290677]])\n",
    "a1_esp = np.array([[0.06394349, 0.76778718, 0.19154935, 0.74952254, 0.69020778,\n",
    "                    0.58350927, 0.10805889, 0.23495025, 0.94731095, 0.9645284 ]])\n",
    "z2_esp = np.array([[-2.19840981]])\n",
    "y_esp = np.array([[-2.19840981]])\n",
    "\n",
    "# Comprobamos resultados:\n",
    "assert np.abs(z1 - z1_esp).max() < 1.e-6, \"el calculo de z1 es incorrecto\"\n",
    "assert np.abs(a1 - a1_esp).max() < 1.e-6, \"el calculo de a1 es incorrecto\"\n",
    "assert np.abs(z2 - z2_esp).max() < 1.e-6, \"el calculo de z2 es incorrecto\"\n",
    "assert np.abs(y - y_esp).max() < 1.e-6, \"el calculo de y es incorrecto\"\n",
    "print(\"Todo ha ido bien!!\")"
   ]
  },
  {
   "cell_type": "markdown",
   "metadata": {
    "id": "-HunGHbYXDYx"
   },
   "source": [
    "## <font color=\"#CA3532\">Prueba del método backward</font>"
   ]
  },
  {
   "cell_type": "code",
   "execution_count": null,
   "metadata": {
    "colab": {
     "base_uri": "https://localhost:8080/"
    },
    "executionInfo": {
     "elapsed": 222,
     "status": "ok",
     "timestamp": 1715881450100,
     "user": {
      "displayName": "Christian Oliva",
      "userId": "06496184645047625135"
     },
     "user_tz": -120
    },
    "id": "6fXAm8mtcO_A",
    "outputId": "1f5c7e14-eee7-4c20-b88d-7c8f4dcd3503"
   },
   "outputs": [],
   "source": [
    "# Inicializamos semilla de numeros aleatorios para tener resultados\n",
    "# reproducibles:\n",
    "np.random.seed(13)\n",
    "\n",
    "# Creamos vector de entrada aleatorio, de dimension 6, y su salida t:\n",
    "x = np.random.randn(1, 6)\n",
    "t = np.random.randn(1, 1)\n",
    "\n",
    "# Creamos una red [6, 10, 1]:\n",
    "r = Red_1capa(6, 10, 1)\n",
    "\n",
    "# Hacemos la pasada backward:\n",
    "dW1, db1, dW2, db2 = r.backward(x, t)\n",
    "\n",
    "# Valores esperados:\n",
    "dW1_esp = np.array([[-3.04297806e-02,  4.49895670e-02,  1.75051283e-01, -9.01221555e-02, -8.54752990e-02, -1.91293070e-02,\n",
    "                     4.47154677e-02, -1.93561879e-02,  7.23334654e-03, -4.94541249e-03],\n",
    "                    [ 3.21971451e-02, -4.76025653e-02, -1.85218278e-01, 9.53564587e-02,  9.04397124e-02,  2.02403389e-02,\n",
    "                     -4.73125463e-02,  2.04803972e-02, -7.65345999e-03, 5.23264251e-03],\n",
    "                    [-1.90094983e-03,  2.81050038e-03,  1.09354620e-02, -5.62993531e-03, -5.33964597e-03, -1.19500871e-03,\n",
    "                     2.79337738e-03, -1.20918198e-03,  4.51867501e-04, -3.08940152e-04],\n",
    "                    [ 1.92991726e-02, -2.85332790e-02, -1.11021009e-01, 5.71572650e-02,  5.42101361e-02,  1.21321873e-02,\n",
    "                     -2.83594397e-02,  1.22760797e-02, -4.58753236e-03, 3.13647904e-03],\n",
    "                    [ 5.74560449e-02, -8.49471318e-02, -3.30523395e-01, 1.70164310e-01,  1.61390339e-01,  3.61190353e-02,\n",
    "                     -8.44295907e-02,  3.65474210e-02, -1.36576563e-02, 9.33768948e-03],\n",
    "                    [ 2.27388229e-02, -3.36187044e-02, -1.30808046e-01, 6.73442824e-02,  6.38718930e-02,  1.42944811e-02,\n",
    "                     -3.34138822e-02,  1.44640192e-02, -5.40515847e-03, 3.69548701e-03]])\n",
    "db1_esp = np.array([ 0.04271502, -0.06315294, -0.24572372,  0.12650665,  0.11998374,\n",
    "                     0.02685227, -0.06276818,  0.02717075, -0.01015362,  0.006942  ])\n",
    "dW2_esp = np.array([[-0.48932682], [-0.12207841], [-0.47768638], [-0.43988384], [-0.37188266], [-0.06886819],\n",
    "                    [-0.1497387 ], [-0.60374107], [-0.61471411], [-0.00977832]])\n",
    "db2_esp = np.array([-0.6373209])\n",
    "\n",
    "# Comprobamos resultados:\n",
    "assert np.abs(dW1 - dW1_esp).max() < 1.e-6, \"el calculo de dW1 es incorrecto\"\n",
    "assert np.abs(db1 - db1_esp).max() < 1.e-6, \"el calculo de db1 es incorrecto\"\n",
    "assert np.abs(dW2 - dW2_esp).max() < 1.e-6, \"el calculo de dW2 es incorrecto\"\n",
    "assert np.abs(db2 - db2_esp).max() < 1.e-6, \"el calculo de db2 es incorrecto\"\n",
    "print(\"Todo ha ido bien!!\")"
   ]
  },
  {
   "cell_type": "markdown",
   "metadata": {
    "id": "JDwaoegDkZaj"
   },
   "source": [
    "## <font color=\"#CA3532\">Ejemplo: Problema lineal 1D</font>"
   ]
  },
  {
   "cell_type": "code",
   "execution_count": null,
   "metadata": {
    "executionInfo": {
     "elapsed": 215,
     "status": "ok",
     "timestamp": 1715881480644,
     "user": {
      "displayName": "Christian Oliva",
      "userId": "06496184645047625135"
     },
     "user_tz": -120
    },
    "id": "VTomIkyzkghP"
   },
   "outputs": [],
   "source": [
    "# Parameters:\n",
    "a = 2.0\n",
    "b = 1.0\n",
    "xmin = 0.0\n",
    "xmax = 10.0\n",
    "noise = 2.0\n",
    "n = 1000\n",
    "\n",
    "# Randomly generated problem data:\n",
    "x = xmin + np.random.rand(n, 1)*(xmax - xmin)\n",
    "t = a*x + b + np.random.randn(n, 1)*noise"
   ]
  },
  {
   "cell_type": "code",
   "execution_count": null,
   "metadata": {
    "colab": {
     "base_uri": "https://localhost:8080/",
     "height": 542
    },
    "executionInfo": {
     "elapsed": 487,
     "status": "ok",
     "timestamp": 1715881482743,
     "user": {
      "displayName": "Christian Oliva",
      "userId": "06496184645047625135"
     },
     "user_tz": -120
    },
    "id": "uKkCJA9vk25q",
    "outputId": "41cae13f-1042-4dc7-fefd-665f9deb59bf"
   },
   "outputs": [],
   "source": [
    "import matplotlib.pyplot as plt\n",
    "\n",
    "plt.figure(figsize=(6, 6))\n",
    "plt.plot(x[:, 0], t[:, 0], 'o')\n",
    "plt.plot([xmin, xmax], [a*xmin + b, a*xmax + b], 'r-')\n",
    "plt.grid(True)\n",
    "plt.xlabel(\"x\")\n",
    "plt.ylabel(\"t\")\n",
    "plt.show()"
   ]
  },
  {
   "cell_type": "code",
   "execution_count": null,
   "metadata": {
    "colab": {
     "base_uri": "https://localhost:8080/"
    },
    "executionInfo": {
     "elapsed": 225,
     "status": "ok",
     "timestamp": 1715881506319,
     "user": {
      "displayName": "Christian Oliva",
      "userId": "06496184645047625135"
     },
     "user_tz": -120
    },
    "id": "uwHEB-JUlUy8",
    "outputId": "de188d12-9a48-4720-b545-532aa159ac76"
   },
   "outputs": [],
   "source": [
    "print(x.shape)\n",
    "print(t.shape)"
   ]
  },
  {
   "cell_type": "code",
   "execution_count": null,
   "metadata": {
    "executionInfo": {
     "elapsed": 2750,
     "status": "ok",
     "timestamp": 1715881578453,
     "user": {
      "displayName": "Christian Oliva",
      "userId": "06496184645047625135"
     },
     "user_tz": -120
    },
    "id": "4-gu6Q8Rk8nb"
   },
   "outputs": [],
   "source": [
    "model = Red_1capa(1, 10, 1)\n",
    "num_iters = 1000\n",
    "eta = 0.00001\n",
    "\n",
    "mse = []\n",
    "for i in range(num_iters):\n",
    "  model.gradient_step(x, t, eta)\n",
    "  mse.append(model.mse(x, t))"
   ]
  },
  {
   "cell_type": "code",
   "execution_count": null,
   "metadata": {
    "colab": {
     "base_uri": "https://localhost:8080/",
     "height": 388
    },
    "executionInfo": {
     "elapsed": 343,
     "status": "ok",
     "timestamp": 1715881578794,
     "user": {
      "displayName": "Christian Oliva",
      "userId": "06496184645047625135"
     },
     "user_tz": -120
    },
    "id": "Ns8qxYZ6oPQa",
    "outputId": "1191c096-96b8-4be4-9f5b-8dce73c53f60"
   },
   "outputs": [],
   "source": [
    "plt.figure(figsize=(6, 4))\n",
    "plt.plot(mse)\n",
    "plt.grid(True)\n",
    "plt.xlabel(\"num. iters\")\n",
    "plt.ylabel(\"mse\")\n",
    "plt.show()"
   ]
  },
  {
   "cell_type": "code",
   "execution_count": null,
   "metadata": {
    "colab": {
     "base_uri": "https://localhost:8080/"
    },
    "executionInfo": {
     "elapsed": 230,
     "status": "ok",
     "timestamp": 1715881615054,
     "user": {
      "displayName": "Christian Oliva",
      "userId": "06496184645047625135"
     },
     "user_tz": -120
    },
    "id": "fpccmPpbmXyL",
    "outputId": "205771ce-a598-4c1c-87b7-a38cfcd96955"
   },
   "outputs": [],
   "source": [
    "y = model.predict(x)\n",
    "y.shape"
   ]
  },
  {
   "cell_type": "code",
   "execution_count": null,
   "metadata": {
    "colab": {
     "base_uri": "https://localhost:8080/",
     "height": 542
    },
    "executionInfo": {
     "elapsed": 1093,
     "status": "ok",
     "timestamp": 1715881618877,
     "user": {
      "displayName": "Christian Oliva",
      "userId": "06496184645047625135"
     },
     "user_tz": -120
    },
    "id": "YNT22oHkmSNH",
    "outputId": "7c90a29c-0809-413e-b050-d9e09f2f046b"
   },
   "outputs": [],
   "source": [
    "plt.figure(figsize=(6, 6))\n",
    "plt.plot(x[:, 0], t[:, 0], 'o')\n",
    "plt.plot([xmin, xmax], [a*xmin + b, a*xmax + b], 'r-')\n",
    "plt.plot(x[:, 0], y[:, 0], 'm.')\n",
    "plt.grid(True)\n",
    "plt.xlabel(\"x\")\n",
    "plt.ylabel(\"t\")\n",
    "plt.show()"
   ]
  },
  {
   "cell_type": "markdown",
   "metadata": {
    "id": "PKGT_D9KpGkb"
   },
   "source": [
    "## <font color=\"#CA3532\">Ejemplo: Problema cuadrático 1D</font>"
   ]
  },
  {
   "cell_type": "code",
   "execution_count": null,
   "metadata": {
    "executionInfo": {
     "elapsed": 266,
     "status": "ok",
     "timestamp": 1715881650171,
     "user": {
      "displayName": "Christian Oliva",
      "userId": "06496184645047625135"
     },
     "user_tz": -120
    },
    "id": "80IhI9DhpAsh"
   },
   "outputs": [],
   "source": [
    "# Parameters:\n",
    "xmin = -1.0\n",
    "xmax = 1.0\n",
    "noise = 0.4\n",
    "n = 1000\n",
    "\n",
    "# Randomly generated problem data:\n",
    "x = xmin + np.random.rand(n, 1)*(xmax - xmin)\n",
    "t = 4*x**2 - x + 1 + np.random.randn(n, 1)*noise"
   ]
  },
  {
   "cell_type": "code",
   "execution_count": null,
   "metadata": {
    "colab": {
     "base_uri": "https://localhost:8080/"
    },
    "executionInfo": {
     "elapsed": 2,
     "status": "ok",
     "timestamp": 1715881650590,
     "user": {
      "displayName": "Christian Oliva",
      "userId": "06496184645047625135"
     },
     "user_tz": -120
    },
    "id": "W6P8nvs6pMhn",
    "outputId": "0d7856e0-080f-48dc-baf1-2e8e52000fe6"
   },
   "outputs": [],
   "source": [
    "print(x.shape)\n",
    "print(t.shape)"
   ]
  },
  {
   "cell_type": "code",
   "execution_count": null,
   "metadata": {
    "colab": {
     "base_uri": "https://localhost:8080/",
     "height": 547
    },
    "executionInfo": {
     "elapsed": 618,
     "status": "ok",
     "timestamp": 1715881652491,
     "user": {
      "displayName": "Christian Oliva",
      "userId": "06496184645047625135"
     },
     "user_tz": -120
    },
    "id": "6yaPskNspAnQ",
    "outputId": "b3aee844-4424-4410-c28e-94f4b81bb5a7"
   },
   "outputs": [],
   "source": [
    "x_range = np.arange(xmin, xmax, 0.01)[None, :]\n",
    "ytrue = 4*x_range**2 - x_range + 1\n",
    "\n",
    "plt.figure(figsize=(6, 6))\n",
    "plt.plot(x[:, 0], t[:, 0], 'o', label=\"problem data\")\n",
    "plt.plot(x_range[0], ytrue[0], 'r-', label=\"true model\")\n",
    "plt.grid(True)\n",
    "plt.xlabel(\"x\")\n",
    "plt.ylabel(\"t\")\n",
    "plt.legend()\n",
    "plt.show()"
   ]
  },
  {
   "cell_type": "code",
   "execution_count": null,
   "metadata": {
    "executionInfo": {
     "elapsed": 7544,
     "status": "ok",
     "timestamp": 1715881798476,
     "user": {
      "displayName": "Christian Oliva",
      "userId": "06496184645047625135"
     },
     "user_tz": -120
    },
    "id": "uVgNdL0wpAe8"
   },
   "outputs": [],
   "source": [
    "model = Red_1capa(1, 50, 1)\n",
    "num_iters = 1000\n",
    "eta = 0.0001\n",
    "\n",
    "mse = []\n",
    "for i in range(num_iters):\n",
    "  model.gradient_step(x, t, eta)\n",
    "  mse.append(model.mse(x, t))"
   ]
  },
  {
   "cell_type": "code",
   "execution_count": null,
   "metadata": {
    "colab": {
     "base_uri": "https://localhost:8080/",
     "height": 388
    },
    "executionInfo": {
     "elapsed": 387,
     "status": "ok",
     "timestamp": 1715881798849,
     "user": {
      "displayName": "Christian Oliva",
      "userId": "06496184645047625135"
     },
     "user_tz": -120
    },
    "id": "p0ze2oyFpmSn",
    "outputId": "dc01392d-664d-4d17-ced5-f4010277f122"
   },
   "outputs": [],
   "source": [
    "plt.figure(figsize=(6, 4))\n",
    "plt.plot(mse)\n",
    "plt.grid(True)\n",
    "plt.xlabel(\"num. iters\")\n",
    "plt.ylabel(\"mse\")\n",
    "plt.show()"
   ]
  },
  {
   "cell_type": "code",
   "execution_count": null,
   "metadata": {
    "colab": {
     "base_uri": "https://localhost:8080/"
    },
    "executionInfo": {
     "elapsed": 223,
     "status": "ok",
     "timestamp": 1715881806852,
     "user": {
      "displayName": "Christian Oliva",
      "userId": "06496184645047625135"
     },
     "user_tz": -120
    },
    "id": "LpafJDZppysp",
    "outputId": "0978f4c8-9c81-4ec1-c5eb-3d0bcf213df5"
   },
   "outputs": [],
   "source": [
    "y = model.predict(x)\n",
    "y.shape"
   ]
  },
  {
   "cell_type": "code",
   "execution_count": null,
   "metadata": {
    "colab": {
     "base_uri": "https://localhost:8080/",
     "height": 547
    },
    "executionInfo": {
     "elapsed": 934,
     "status": "ok",
     "timestamp": 1715881809843,
     "user": {
      "displayName": "Christian Oliva",
      "userId": "06496184645047625135"
     },
     "user_tz": -120
    },
    "id": "H_doQ2JDpyg-",
    "outputId": "dc76cbc1-e08b-4ed2-8fca-24d4be37a64f"
   },
   "outputs": [],
   "source": [
    "plt.figure(figsize=(6, 6))\n",
    "plt.plot(x[:, 0], t[:, 0], 'o', label=\"problem data\")\n",
    "plt.plot(x_range[0], ytrue[0], 'r-', label=\"true model\")\n",
    "plt.plot(x[:, 0], y[:, 0], 'm.')\n",
    "plt.grid(True)\n",
    "plt.xlabel(\"x\")\n",
    "plt.ylabel(\"t\")\n",
    "plt.show()"
   ]
  },
  {
   "cell_type": "markdown",
   "metadata": {
    "id": "vxQILfevdbrA"
   },
   "source": [
    "## <font color=\"#CA3532\">California Housing</font>"
   ]
  },
  {
   "cell_type": "code",
   "execution_count": null,
   "metadata": {
    "colab": {
     "base_uri": "https://localhost:8080/"
    },
    "executionInfo": {
     "elapsed": 2590,
     "status": "ok",
     "timestamp": 1715881887910,
     "user": {
      "displayName": "Christian Oliva",
      "userId": "06496184645047625135"
     },
     "user_tz": -120
    },
    "id": "p2SpX_KAJSml",
    "outputId": "5d8d7682-9cd7-4895-aebd-3ba8ba6789d6"
   },
   "outputs": [],
   "source": [
    "from sklearn.datasets import fetch_california_housing\n",
    "\n",
    "x, t = fetch_california_housing(return_X_y=True, as_frame=True)\n",
    "print(x.shape)\n",
    "print(t.shape)"
   ]
  },
  {
   "cell_type": "code",
   "execution_count": null,
   "metadata": {
    "colab": {
     "base_uri": "https://localhost:8080/"
    },
    "executionInfo": {
     "elapsed": 209,
     "status": "ok",
     "timestamp": 1715881893180,
     "user": {
      "displayName": "Christian Oliva",
      "userId": "06496184645047625135"
     },
     "user_tz": -120
    },
    "id": "FpEnOEyBJSg6",
    "outputId": "645bb8d7-525c-4f6f-c6b2-14e4403a885c"
   },
   "outputs": [],
   "source": [
    "x = x.values[:1000]\n",
    "t = t.values[:1000]\n",
    "t = t[:, None]\n",
    "\n",
    "print(x.shape)\n",
    "print(t.shape)"
   ]
  },
  {
   "cell_type": "code",
   "execution_count": null,
   "metadata": {
    "executionInfo": {
     "elapsed": 2,
     "status": "ok",
     "timestamp": 1715881896216,
     "user": {
      "displayName": "Christian Oliva",
      "userId": "06496184645047625135"
     },
     "user_tz": -120
    },
    "id": "uTHthvbbJSbG"
   },
   "outputs": [],
   "source": [
    "# Estandarizar los datos:\n",
    "means = x.mean(axis=0)\n",
    "stds = x.std(axis=0)\n",
    "x = (x - means) / stds"
   ]
  },
  {
   "cell_type": "markdown",
   "metadata": {
    "id": "7uwP6KLQc2qn"
   },
   "source": [
    "### <font color=\"#CA3532\">Ejercicio 1</font>\n",
    "\n",
    "Aplica la red neuronal anterior al problema California Housing (ver notebook ``02_lin_reg_exercise.ipynb``) y compara los resultados con los obtenidos con el modelo lineal."
   ]
  },
  {
   "cell_type": "code",
   "execution_count": null,
   "metadata": {
    "executionInfo": {
     "elapsed": 3409,
     "status": "ok",
     "timestamp": 1715882094776,
     "user": {
      "displayName": "Christian Oliva",
      "userId": "06496184645047625135"
     },
     "user_tz": -120
    },
    "id": "MkQ4JZFgKLMX"
   },
   "outputs": [],
   "source": [
    "#----------------------------------------------------------\n",
    "# TO-DO:\n",
    "# Entrena una red neuronal (model) con los siguientes hiperparámetros:\n",
    "# - 32 neuronas en la capa oculta\n",
    "# - 0.0001 de learning rate\n",
    "# - 1000 iteraciones\n",
    "# Recuerda guardar el MSE en cada época\n",
    "#----------------------------------------------------------\n"
   ]
  },
  {
   "cell_type": "code",
   "execution_count": null,
   "metadata": {
    "colab": {
     "base_uri": "https://localhost:8080/",
     "height": 542
    },
    "executionInfo": {
     "elapsed": 494,
     "status": "ok",
     "timestamp": 1715882095268,
     "user": {
      "displayName": "Christian Oliva",
      "userId": "06496184645047625135"
     },
     "user_tz": -120
    },
    "id": "SMfM_yHGKjFW",
    "outputId": "aa32a891-d8ee-4026-d7c9-b92c92ff5e3e"
   },
   "outputs": [],
   "source": [
    "plt.figure(figsize=(6, 6))\n",
    "plt.plot(mse)\n",
    "plt.grid(True)\n",
    "plt.xlabel(\"num. iters\")\n",
    "plt.ylabel(\"mse\")\n",
    "plt.show()"
   ]
  },
  {
   "cell_type": "code",
   "execution_count": null,
   "metadata": {
    "colab": {
     "base_uri": "https://localhost:8080/",
     "height": 594
    },
    "executionInfo": {
     "elapsed": 775,
     "status": "ok",
     "timestamp": 1715882103736,
     "user": {
      "displayName": "Christian Oliva",
      "userId": "06496184645047625135"
     },
     "user_tz": -120
    },
    "id": "RbR15t6lK7F7",
    "outputId": "5c23c73b-b96d-4ae8-d55d-492e6fa982e6"
   },
   "outputs": [],
   "source": [
    "# Grafica de y frente a t:\n",
    "y = model.predict(x)\n",
    "\n",
    "tmin = 0\n",
    "tmax = 5.5\n",
    "\n",
    "print(t.shape)\n",
    "print(y.shape)\n",
    "\n",
    "plt.figure(figsize=(6, 6))\n",
    "plt.plot(t[:, 0], y[:, 0], 'o')\n",
    "plt.plot([tmin, tmax], [tmin, tmax], 'r-')\n",
    "plt.grid(True)\n",
    "plt.xlabel(\"t\")\n",
    "plt.ylabel(\"y\")\n",
    "plt.show()\n",
    "\n",
    "# Error:\n",
    "e = np.mean((y-t)**2)\n",
    "print(\"Error = %f\" % e)"
   ]
  },
  {
   "cell_type": "markdown",
   "metadata": {
    "id": "RKVa4SpGMSk5"
   },
   "source": [
    "### <font color=\"#CA3532\">Ejercicio 2</font>\n",
    "\n",
    "Programa una clase Red con dos capas ocultas, aplícala al problema California Housing (ver notebook ``02_lin_reg_exercise.ipynb``) y compara los resultados con los obtenidos con el modelo lineal y la red con una sola capa oculta."
   ]
  },
  {
   "cell_type": "code",
   "execution_count": null,
   "metadata": {
    "executionInfo": {
     "elapsed": 229,
     "status": "ok",
     "timestamp": 1715882899360,
     "user": {
      "displayName": "Christian Oliva",
      "userId": "06496184645047625135"
     },
     "user_tz": -120
    },
    "id": "tnbZOG-WLZ5G"
   },
   "outputs": [],
   "source": [
    "class Red_2capas(object):\n",
    "\n",
    "    def __init__(self, d0=2, d1=10, d2=10, d3=1):\n",
    "        self.W1 = np.random.randn(d0, d1)\n",
    "        self.W2 = np.random.randn(d1, d2)\n",
    "        self.W3 = np.random.randn(d2, d3)\n",
    "        self.b1 = np.random.randn(d1)\n",
    "        self.b2 = np.random.randn(d2)\n",
    "        self.b3 = np.random.randn(d3)\n",
    "\n",
    "    def forward(self, x):\n",
    "        #----------------------------------------------------------\n",
    "        # TO-DO:\n",
    "        # x tiene que tener dimensiones (nxd0)\n",
    "        # Implementamos regresion\n",
    "        #----------------------------------------------------------\n",
    "        z1 = 0\n",
    "        a1 = 0\n",
    "        z2 = 0\n",
    "        a2 = 0\n",
    "        z3 = 0\n",
    "        y = 0\n",
    "\n",
    "        return z1, a1, z2, a2, z3, y\n",
    "\n",
    "    def backward(self, x, t):\n",
    "        z1, a1, z2, a2, z3, a3 = self.forward(x)\n",
    "\n",
    "        #----------------------------------------------------------\n",
    "        # TO-DO:\n",
    "        # x tiene que tener dimensiones (nxd0)\n",
    "        # t tiene que tener dimensiones (nxd3)\n",
    "        # Implementamos regresion, error cuadratico\n",
    "        #----------------------------------------------------------\n",
    "        db3 = 0\n",
    "        dW3 = 0\n",
    "        db2 = 0\n",
    "        dW2 = 0\n",
    "        db1 = 0\n",
    "        dW1 = 0\n",
    "\n",
    "        return dW1, db1, dW2, db2, dW3, db3\n",
    "\n",
    "    def gradient_step(self, x, t, eta):\n",
    "        dW1, db1, dW2, db2, dW3, db3 = self.backward(x, t)\n",
    "        self.W1 -= eta*dW1\n",
    "        self.b1 -= eta*db1\n",
    "        self.W2 -= eta*dW2\n",
    "        self.b2 -= eta*db2\n",
    "        self.W3 -= eta*dW3\n",
    "        self.b3 -= eta*db3\n",
    "\n",
    "    def predict(self, x):\n",
    "        _, _, _, _, _, y = self.forward(x)\n",
    "        return y\n",
    "\n",
    "    def mse(self, x, t):\n",
    "        _, _, _, _, _, y = self.forward(x)\n",
    "        mse = ((y - t)**2).mean()\n",
    "        return mse"
   ]
  },
  {
   "cell_type": "code",
   "execution_count": null,
   "metadata": {
    "executionInfo": {
     "elapsed": 4798,
     "status": "ok",
     "timestamp": 1715882975492,
     "user": {
      "displayName": "Christian Oliva",
      "userId": "06496184645047625135"
     },
     "user_tz": -120
    },
    "id": "wt1-XzKidIG0"
   },
   "outputs": [],
   "source": [
    "#----------------------------------------------------------\n",
    "# TO-DO:\n",
    "# Entrena una red neuronal (model) con los siguientes hiperparámetros:\n",
    "# - 30 neuronas en la primera capa oculta\n",
    "# - 15 neuronas en la segunda capa oculta\n",
    "# - 0.0001 de learning rate\n",
    "# - 1000 iteraciones\n",
    "# Recuerda guardar el MSE en cada época\n",
    "#----------------------------------------------------------\n"
   ]
  },
  {
   "cell_type": "code",
   "execution_count": null,
   "metadata": {
    "colab": {
     "base_uri": "https://localhost:8080/",
     "height": 542
    },
    "executionInfo": {
     "elapsed": 552,
     "status": "ok",
     "timestamp": 1715882976041,
     "user": {
      "displayName": "Christian Oliva",
      "userId": "06496184645047625135"
     },
     "user_tz": -120
    },
    "id": "aYnSKK6NQROF",
    "outputId": "d5ee5965-7952-4361-f0a8-f4962122b843"
   },
   "outputs": [],
   "source": [
    "plt.figure(figsize=(6, 6))\n",
    "plt.plot(mse)\n",
    "plt.grid(True)\n",
    "plt.xlabel(\"num. iters\")\n",
    "plt.ylabel(\"mse\")\n",
    "plt.show()"
   ]
  },
  {
   "cell_type": "code",
   "execution_count": null,
   "metadata": {
    "colab": {
     "base_uri": "https://localhost:8080/",
     "height": 594
    },
    "executionInfo": {
     "elapsed": 826,
     "status": "ok",
     "timestamp": 1715882982638,
     "user": {
      "displayName": "Christian Oliva",
      "userId": "06496184645047625135"
     },
     "user_tz": -120
    },
    "id": "pGCT0G-wQisG",
    "outputId": "3ae0ba7e-c13a-406c-935f-9c68f358d32c"
   },
   "outputs": [],
   "source": [
    "# Grafica de y frente a t:\n",
    "y = model.predict(x)\n",
    "\n",
    "tmin = 0\n",
    "tmax = 5.5\n",
    "\n",
    "print(t.shape)\n",
    "print(y.shape)\n",
    "\n",
    "plt.figure(figsize=(6, 6))\n",
    "plt.plot(t[:, 0], y[:, 0], 'o')\n",
    "plt.plot([tmin, tmax], [tmin, tmax], 'r-')\n",
    "plt.grid(True)\n",
    "plt.xlabel(\"t\")\n",
    "plt.ylabel(\"y\")\n",
    "plt.show()\n",
    "\n",
    "# Error:\n",
    "e = np.mean((y-t)**2)\n",
    "print(\"Error = %f\" % e)"
   ]
  },
  {
   "cell_type": "markdown",
   "metadata": {
    "id": "-1q8roY7Y9eE"
   },
   "source": [
    "---"
   ]
  },
  {
   "cell_type": "markdown",
   "metadata": {
    "id": "UpIiTkOTBADo"
   },
   "source": [
    "# <font color=\"#CA3532\">Implementación de una red neuronal para problemas de clasificación</font>"
   ]
  },
  {
   "cell_type": "code",
   "execution_count": null,
   "metadata": {
    "executionInfo": {
     "elapsed": 227,
     "status": "ok",
     "timestamp": 1715884027739,
     "user": {
      "displayName": "Christian Oliva",
      "userId": "06496184645047625135"
     },
     "user_tz": -120
    },
    "id": "FcMY7DpbDZEJ"
   },
   "outputs": [],
   "source": [
    "def accuracy(y, t):\n",
    "  pred = y > 0.5\n",
    "  return np.mean(pred == t)"
   ]
  },
  {
   "cell_type": "code",
   "execution_count": null,
   "metadata": {
    "executionInfo": {
     "elapsed": 4,
     "status": "ok",
     "timestamp": 1715884027740,
     "user": {
      "displayName": "Christian Oliva",
      "userId": "06496184645047625135"
     },
     "user_tz": -120
    },
    "id": "n9fL8aFhDazb"
   },
   "outputs": [],
   "source": [
    "def cross_entropy(y, t):\n",
    "  loss = np.mean(-t*np.log(y) - (1.-t)*np.log(1.-y))\n",
    "  return loss"
   ]
  },
  {
   "cell_type": "markdown",
   "metadata": {
    "id": "K3fSjrwVBEkC"
   },
   "source": [
    "La única diferencia entre una red neuronal para regresión o clasificación es la función de activación de la última capa de la red."
   ]
  },
  {
   "cell_type": "code",
   "execution_count": null,
   "metadata": {
    "executionInfo": {
     "elapsed": 3,
     "status": "ok",
     "timestamp": 1715884028616,
     "user": {
      "displayName": "Christian Oliva",
      "userId": "06496184645047625135"
     },
     "user_tz": -120
    },
    "id": "-SZTPLLYQpY_"
   },
   "outputs": [],
   "source": [
    "class Red_1capa(object):\n",
    "\n",
    "    def __init__(self, d0=2, d1=10, d2=1):\n",
    "        self.W1 = np.random.randn(d0, d1)\n",
    "        self.W2 = np.random.randn(d1, d2)\n",
    "        self.b1 = np.random.randn(d1)\n",
    "        self.b2 = np.random.randn(d2)\n",
    "\n",
    "    def forward(self, x):\n",
    "        #----------------------------------------------------------\n",
    "        # TO-DO:\n",
    "        # x tiene que tener dimensiones (nxd0)\n",
    "        # Implementamos clasificacion\n",
    "        #----------------------------------------------------------\n",
    "        z1 = 0\n",
    "        a1 = 0\n",
    "        z2 = 0\n",
    "        y = 0\n",
    "\n",
    "        return z1, a1, z2, y\n",
    "\n",
    "    def backward(self, x, t):\n",
    "        z1, a1, z2, a2 = self.forward(x)\n",
    "\n",
    "        #----------------------------------------------------------\n",
    "        # TO-DO:\n",
    "        # x tiene que tener dimensiones (nxd0)\n",
    "        # t tiene que tener dimensiones (nxd2)\n",
    "        # Implementamos clasificacion, cross-entropy\n",
    "        #----------------------------------------------------------\n",
    "        db2 = 0\n",
    "        dW2 = 0\n",
    "        db1 = 0\n",
    "        dW1 = 0\n",
    "\n",
    "\n",
    "        return dW1, db1, dW2, db2\n",
    "\n",
    "    def gradient_step(self, x, t, eta):\n",
    "        dW1, db1, dW2, db2 = self.backward(x, t)\n",
    "        self.W1 -= eta*dW1\n",
    "        self.b1 -= eta*db1\n",
    "        self.W2 -= eta*dW2\n",
    "        self.b2 -= eta*db2\n",
    "\n",
    "    def predict(self, x):\n",
    "        _, _, _, y = self.forward(x)\n",
    "        return y\n",
    "\n",
    "    def loss(self, x, t):\n",
    "        y = self.predict(x)\n",
    "        return cross_entropy(y, t)\n",
    "\n",
    "    def accuracy(self, x, t):\n",
    "        y = self.predict(x)\n",
    "        return accuracy(y, t)"
   ]
  },
  {
   "cell_type": "markdown",
   "metadata": {
    "id": "5gp1H2EjCdm6"
   },
   "source": [
    "## <font color=\"#CA3532\">Breast Cancer Wisconsin</font>"
   ]
  },
  {
   "cell_type": "code",
   "execution_count": null,
   "metadata": {
    "executionInfo": {
     "elapsed": 2,
     "status": "ok",
     "timestamp": 1715884030060,
     "user": {
      "displayName": "Christian Oliva",
      "userId": "06496184645047625135"
     },
     "user_tz": -120
    },
    "id": "JQ46Lba7CiLt"
   },
   "outputs": [],
   "source": [
    "from sklearn.datasets import load_breast_cancer"
   ]
  },
  {
   "cell_type": "code",
   "execution_count": null,
   "metadata": {
    "executionInfo": {
     "elapsed": 6,
     "status": "ok",
     "timestamp": 1715884030402,
     "user": {
      "displayName": "Christian Oliva",
      "userId": "06496184645047625135"
     },
     "user_tz": -120
    },
    "id": "hu6powbsCjce"
   },
   "outputs": [],
   "source": [
    "data = load_breast_cancer()"
   ]
  },
  {
   "cell_type": "code",
   "execution_count": null,
   "metadata": {
    "colab": {
     "base_uri": "https://localhost:8080/"
    },
    "executionInfo": {
     "elapsed": 5,
     "status": "ok",
     "timestamp": 1715884030402,
     "user": {
      "displayName": "Christian Oliva",
      "userId": "06496184645047625135"
     },
     "user_tz": -120
    },
    "id": "qpMFKFxjCkmT",
    "outputId": "077a39fe-b122-43d7-936b-a239b923179b"
   },
   "outputs": [],
   "source": [
    "x = data.data\n",
    "t = data.target[:, None]\n",
    "\n",
    "print(x.shape)\n",
    "print(t.shape)"
   ]
  },
  {
   "cell_type": "markdown",
   "metadata": {
    "id": "QgItqO-SCnuw"
   },
   "source": [
    "La clase $t$ toma dos posibles valores (0 y 1):"
   ]
  },
  {
   "cell_type": "code",
   "execution_count": null,
   "metadata": {
    "executionInfo": {
     "elapsed": 3,
     "status": "ok",
     "timestamp": 1715884030710,
     "user": {
      "displayName": "Christian Oliva",
      "userId": "06496184645047625135"
     },
     "user_tz": -120
    },
    "id": "eUN-57rJCsW1"
   },
   "outputs": [],
   "source": [
    "from sklearn.model_selection import train_test_split"
   ]
  },
  {
   "cell_type": "code",
   "execution_count": null,
   "metadata": {
    "executionInfo": {
     "elapsed": 2,
     "status": "ok",
     "timestamp": 1715884030710,
     "user": {
      "displayName": "Christian Oliva",
      "userId": "06496184645047625135"
     },
     "user_tz": -120
    },
    "id": "3FyIc916Ctdz"
   },
   "outputs": [],
   "source": [
    "# Particion entrenamiento-test:\n",
    "x_train, x_test, t_train, t_test = train_test_split(x, t, test_size=0.33, random_state=42)\n",
    "x_train = x_train\n",
    "x_test = x_test\n",
    "t_train = t_train\n",
    "t_test = t_test"
   ]
  },
  {
   "cell_type": "code",
   "execution_count": null,
   "metadata": {
    "colab": {
     "base_uri": "https://localhost:8080/"
    },
    "executionInfo": {
     "elapsed": 5,
     "status": "ok",
     "timestamp": 1715884031068,
     "user": {
      "displayName": "Christian Oliva",
      "userId": "06496184645047625135"
     },
     "user_tz": -120
    },
    "id": "SPLXoaf2Culs",
    "outputId": "dbcf39ea-38df-4098-b610-5562a934ac9f"
   },
   "outputs": [],
   "source": [
    "print(x_train.shape)\n",
    "print(x_test.shape)\n",
    "print(t_train.shape)\n",
    "print(t_test.shape)"
   ]
  },
  {
   "cell_type": "code",
   "execution_count": null,
   "metadata": {
    "executionInfo": {
     "elapsed": 2,
     "status": "ok",
     "timestamp": 1715884032487,
     "user": {
      "displayName": "Christian Oliva",
      "userId": "06496184645047625135"
     },
     "user_tz": -120
    },
    "id": "gOqhl3jtCxFV"
   },
   "outputs": [],
   "source": [
    "# Estandarizar los datos\n",
    "media = x_train.mean(axis=0, keepdims=True)\n",
    "std = x_train.std(axis=0, keepdims=True)\n",
    "\n",
    "x_train = (x_train - media) / std\n",
    "x_test = (x_test - media) / std # Se estandariza con la media y std de training"
   ]
  },
  {
   "cell_type": "markdown",
   "metadata": {
    "id": "OHnl4Ui4CPzc"
   },
   "source": [
    "### <font color=\"#CA3532\">Ejercicio 3</font>\n",
    "\n",
    "Aplica la red neuronal anterior al problema Breast Cancer Wisconsin (ver notebook ``03_log_reg_exercise.ipynb``) y compara los resultados con los obtenidos con el modelo lineal."
   ]
  },
  {
   "cell_type": "code",
   "execution_count": null,
   "metadata": {
    "executionInfo": {
     "elapsed": 3166,
     "status": "ok",
     "timestamp": 1715884417911,
     "user": {
      "displayName": "Christian Oliva",
      "userId": "06496184645047625135"
     },
     "user_tz": -120
    },
    "id": "-Hp2SujpdwLX"
   },
   "outputs": [],
   "source": [
    "#----------------------------------------------------------\n",
    "# TO-DO:\n",
    "# Entrena una red neuronal (model) con los siguientes hiperparámetros:\n",
    "# - 10 neuronas en la capa oculta\n",
    "# - 0.001 de learning rate\n",
    "# - 1000 iteraciones\n",
    "# Recuerda guardar loss y accuracy de train y test\n",
    "#----------------------------------------------------------\n"
   ]
  },
  {
   "cell_type": "code",
   "execution_count": null,
   "metadata": {
    "colab": {
     "base_uri": "https://localhost:8080/",
     "height": 388
    },
    "executionInfo": {
     "elapsed": 529,
     "status": "ok",
     "timestamp": 1715884418434,
     "user": {
      "displayName": "Christian Oliva",
      "userId": "06496184645047625135"
     },
     "user_tz": -120
    },
    "id": "Bk3PCwzkC-MB",
    "outputId": "e1bca8cb-4734-4eaa-cf3f-cb29487ccbbc"
   },
   "outputs": [],
   "source": [
    "plt.figure(figsize=(12, 4))\n",
    "plt.subplot(1, 2, 1)\n",
    "plt.plot(range(n_iters), loss_train, label=\"train\")\n",
    "plt.plot(range(n_iters), loss_test, label=\"test\")\n",
    "plt.grid(True)\n",
    "plt.xlabel(\"epoch\")\n",
    "plt.ylabel(\"loss\")\n",
    "plt.legend()\n",
    "\n",
    "plt.subplot(1,2,2)\n",
    "plt.plot(range(n_iters), acc_train, label=\"train\")\n",
    "plt.plot(range(n_iters), acc_test, label=\"test\")\n",
    "plt.grid(True)\n",
    "plt.xlabel(\"epoch\")\n",
    "plt.ylabel(\"acc\")\n",
    "plt.legend()\n",
    "plt.show()"
   ]
  },
  {
   "cell_type": "code",
   "execution_count": null,
   "metadata": {
    "id": "vL5EyK1REH12"
   },
   "outputs": [],
   "source": [
    "acc_test[-1]"
   ]
  },
  {
   "cell_type": "markdown",
   "metadata": {
    "id": "xzwIisHNEh-V"
   },
   "source": [
    "### <font color=\"#CA3532\">Ejercicio 4</font>\n",
    "\n",
    "Entrenar una red con 2 neuronas en la capa oculta para poder dibujar la frontera de decisión del modelo en la capa intermedia."
   ]
  },
  {
   "cell_type": "code",
   "execution_count": null,
   "metadata": {
    "executionInfo": {
     "elapsed": 1095,
     "status": "ok",
     "timestamp": 1715884509233,
     "user": {
      "displayName": "Christian Oliva",
      "userId": "06496184645047625135"
     },
     "user_tz": -120
    },
    "id": "eCIwcMNud6wg"
   },
   "outputs": [],
   "source": [
    "#----------------------------------------------------------\n",
    "# TO-DO:\n",
    "# Entrena una red neuronal (model) con los siguientes hiperparámetros:\n",
    "# - 2 neuronas en la capa oculta\n",
    "# - 0.001 de learning rate\n",
    "# - 2000 iteraciones\n",
    "# Recuerda guardar loss y accuracy de train y test\n",
    "#----------------------------------------------------------\n"
   ]
  },
  {
   "cell_type": "code",
   "execution_count": null,
   "metadata": {
    "colab": {
     "base_uri": "https://localhost:8080/",
     "height": 388
    },
    "executionInfo": {
     "elapsed": 1374,
     "status": "ok",
     "timestamp": 1715884524314,
     "user": {
      "displayName": "Christian Oliva",
      "userId": "06496184645047625135"
     },
     "user_tz": -120
    },
    "id": "bz02T2R3Ev6l",
    "outputId": "542e344f-9357-44a5-8297-505a6ade2437"
   },
   "outputs": [],
   "source": [
    "plt.figure(figsize=(12, 4))\n",
    "plt.subplot(1, 2, 1)\n",
    "plt.plot(range(n_iters), loss_train, label=\"train\")\n",
    "plt.plot(range(n_iters), loss_test, label=\"test\")\n",
    "plt.grid(True)\n",
    "plt.xlabel(\"epoch\")\n",
    "plt.ylabel(\"loss\")\n",
    "plt.legend()\n",
    "\n",
    "plt.subplot(1,2,2)\n",
    "plt.plot(range(n_iters), acc_train, label=\"train\")\n",
    "plt.plot(range(n_iters), acc_test, label=\"test\")\n",
    "plt.grid(True)\n",
    "plt.xlabel(\"epoch\")\n",
    "plt.ylabel(\"acc\")\n",
    "plt.legend()\n",
    "plt.show()"
   ]
  },
  {
   "cell_type": "code",
   "execution_count": null,
   "metadata": {
    "id": "pTfTDlpwEwfC"
   },
   "outputs": [],
   "source": [
    "acc_test[-1]"
   ]
  },
  {
   "cell_type": "markdown",
   "metadata": {
    "id": "adl1Hf5-E3aP"
   },
   "source": [
    "**Recordatorio**: Para dibujar la frontera de decisión en 2D, se calcula una malla con la función *meshgrid* de numpy. Esta función de da los pares de puntos a imprimir en un plot con la función *contourf*. Además, hay que calcular el valor de cada punto, por lo que hay que procesarlos con el modelo ya entrenado."
   ]
  },
  {
   "cell_type": "markdown",
   "metadata": {
    "id": "5QjXSL-4FCVI"
   },
   "source": [
    "En este caso, a diferencia de lo que hicimos en el notebook 03, lo que queremos es analizar la capa intermedia, no directamente la entrada. Primero necesitamos extraer la activación de esa capa."
   ]
  },
  {
   "cell_type": "code",
   "execution_count": null,
   "metadata": {
    "colab": {
     "base_uri": "https://localhost:8080/"
    },
    "executionInfo": {
     "elapsed": 243,
     "status": "ok",
     "timestamp": 1715884640223,
     "user": {
      "displayName": "Christian Oliva",
      "userId": "06496184645047625135"
     },
     "user_tz": -120
    },
    "id": "lfaZCR0aFTty",
    "outputId": "1ed47ec8-20b7-41fa-c1fd-c3012d304bf6"
   },
   "outputs": [],
   "source": [
    "_, h_train, _, _ = model.forward(x_train)\n",
    "_, h_test, _, _ = model.forward(x_test)\n",
    "print(h_train.shape, h_test.shape)"
   ]
  },
  {
   "cell_type": "code",
   "execution_count": null,
   "metadata": {
    "colab": {
     "base_uri": "https://localhost:8080/"
    },
    "executionInfo": {
     "elapsed": 228,
     "status": "ok",
     "timestamp": 1715884646510,
     "user": {
      "displayName": "Christian Oliva",
      "userId": "06496184645047625135"
     },
     "user_tz": -120
    },
    "id": "_qoU8M1aEyOX",
    "outputId": "091fae66-63cd-4c6b-96b8-ab9b672c06e6"
   },
   "outputs": [],
   "source": [
    "xx, yy = np.meshgrid(np.arange(h_train[:, 0].min()-0.2, h_train[:, 1].max()+0.2, 0.1),\n",
    "                     np.arange(h_train[:, 0].min()-0.2, h_train[:, 1].max()+0.2, 0.1))\n",
    "xy = np.concatenate([xx.reshape([-1, 1]), yy.reshape([-1, 1])],axis=1)\n",
    "xy.shape"
   ]
  },
  {
   "cell_type": "code",
   "execution_count": null,
   "metadata": {
    "colab": {
     "base_uri": "https://localhost:8080/"
    },
    "executionInfo": {
     "elapsed": 229,
     "status": "ok",
     "timestamp": 1715884648561,
     "user": {
      "displayName": "Christian Oliva",
      "userId": "06496184645047625135"
     },
     "user_tz": -120
    },
    "id": "5MEz1P_JFo9r",
    "outputId": "a186efc6-9ea9-4f44-8fe2-48091b8a948c"
   },
   "outputs": [],
   "source": [
    "z2 = xy @ model.W2 + model.b2\n",
    "z2 = sigmoid(z2)\n",
    "z2.shape"
   ]
  },
  {
   "cell_type": "code",
   "execution_count": null,
   "metadata": {
    "colab": {
     "base_uri": "https://localhost:8080/",
     "height": 410
    },
    "executionInfo": {
     "elapsed": 873,
     "status": "ok",
     "timestamp": 1715884650940,
     "user": {
      "displayName": "Christian Oliva",
      "userId": "06496184645047625135"
     },
     "user_tz": -120
    },
    "id": "rd2BlEJDF6lx",
    "outputId": "ae083abf-ed03-4456-b817-575a1d8025f9"
   },
   "outputs": [],
   "source": [
    "plt.figure(figsize=(8, 4))\n",
    "\n",
    "plt.contourf(xx, yy, z2[:, 0].reshape(xx.shape), 100, cmap=\"bwr\", alpha=0.4, vmin=0.0, vmax=1.0)\n",
    "\n",
    "plt.plot(h_test[t_test.ravel()==0, 0], h_test[t_test.ravel()==0, 1], 'o', label=\"Clase 0\", color='blue', alpha=0.5)\n",
    "plt.plot(h_test[t_test.ravel()==1, 0], h_test[t_test.ravel()==1, 1], 'o', label=\"Clase 1\", color='red', alpha=0.5)\n",
    "\n",
    "plt.title(\"Probabilidad de Clase 1\")\n",
    "plt.xlabel(\"N-0\")\n",
    "plt.ylabel(\"N-1\")\n",
    "plt.grid(True)\n",
    "plt.legend(loc=2)\n",
    "plt.colorbar()\n",
    "plt.show()"
   ]
  },
  {
   "cell_type": "markdown",
   "metadata": {
    "id": "D3wB-kdAHtNv"
   },
   "source": [
    "## <font color=\"#CA3532\">Iris dataset</font>"
   ]
  },
  {
   "cell_type": "code",
   "execution_count": null,
   "metadata": {
    "executionInfo": {
     "elapsed": 269,
     "status": "ok",
     "timestamp": 1715885150864,
     "user": {
      "displayName": "Christian Oliva",
      "userId": "06496184645047625135"
     },
     "user_tz": -120
    },
    "id": "fvsOOcGeHkDp"
   },
   "outputs": [],
   "source": [
    "from sklearn.datasets import load_iris\n",
    "iris = load_iris()"
   ]
  },
  {
   "cell_type": "markdown",
   "metadata": {
    "id": "KtDK4syeHyBo"
   },
   "source": [
    "Preparación de los datos considerando exclusivamente las dos últimas dimensiones del problema (longitud y anchura del pétalo). Esto nos permite visualizar el modelo en 2D."
   ]
  },
  {
   "cell_type": "code",
   "execution_count": null,
   "metadata": {
    "executionInfo": {
     "elapsed": 261,
     "status": "ok",
     "timestamp": 1715885152278,
     "user": {
      "displayName": "Christian Oliva",
      "userId": "06496184645047625135"
     },
     "user_tz": -120
    },
    "id": "VlMS7RZtHwUQ"
   },
   "outputs": [],
   "source": [
    "x = iris.data[:, -2:]\n",
    "t = iris.target\n",
    "[n, d] = x.shape"
   ]
  },
  {
   "cell_type": "markdown",
   "metadata": {
    "id": "wxe0MUNoH0ua"
   },
   "source": [
    "Los datos del problema están ordenados. Para evitar sesgos conviene desordenarlos."
   ]
  },
  {
   "cell_type": "code",
   "execution_count": null,
   "metadata": {
    "colab": {
     "base_uri": "https://localhost:8080/"
    },
    "executionInfo": {
     "elapsed": 226,
     "status": "ok",
     "timestamp": 1715885154250,
     "user": {
      "displayName": "Christian Oliva",
      "userId": "06496184645047625135"
     },
     "user_tz": -120
    },
    "id": "mEJcZ8hcHzcg",
    "outputId": "0111f6cc-6cd7-40a4-9436-e7849a42c93c"
   },
   "outputs": [],
   "source": [
    "p = np.random.permutation(n)\n",
    "x = x[p, :]\n",
    "t = t[p]\n",
    "t = t[:, None]\n",
    "print(x.shape, t.shape)"
   ]
  },
  {
   "cell_type": "markdown",
   "metadata": {
    "id": "gHOB4OH0H3dz"
   },
   "source": [
    "Ahora imprimimos los datos en 2D. Se puede ver que los dos atributos seleccionados distinguen relativamente bien las tres clases."
   ]
  },
  {
   "cell_type": "code",
   "execution_count": null,
   "metadata": {
    "colab": {
     "base_uri": "https://localhost:8080/",
     "height": 465
    },
    "executionInfo": {
     "elapsed": 545,
     "status": "ok",
     "timestamp": 1715885162004,
     "user": {
      "displayName": "Christian Oliva",
      "userId": "06496184645047625135"
     },
     "user_tz": -120
    },
    "id": "YO1_tfN8H0QJ",
    "outputId": "4b937950-d18e-4453-956d-30617fc99116"
   },
   "outputs": [],
   "source": [
    "plt.figure(figsize=(5, 5))\n",
    "\n",
    "plt.plot(x[t.ravel()==0, 0], x[t.ravel()==0, 1], 'o', label=iris.target_names[0], color='#993300')\n",
    "plt.plot(x[t.ravel()==1, 0], x[t.ravel()==1, 1], 'o', label=iris.target_names[1], color='#009933')\n",
    "plt.plot(x[t.ravel()==2, 0], x[t.ravel()==2, 1], 'o', label=iris.target_names[2], color='#000099')\n",
    "\n",
    "plt.xlabel(iris.feature_names[2])\n",
    "plt.ylabel(iris.feature_names[3])\n",
    "plt.grid(True)\n",
    "\n",
    "plt.legend(loc=2)\n",
    "plt.show()"
   ]
  },
  {
   "cell_type": "markdown",
   "metadata": {
    "id": "YJ-ie8Z3H7uz"
   },
   "source": [
    "Separamos el dataset en training-test para preparar los datos de los ejercicios:"
   ]
  },
  {
   "cell_type": "code",
   "execution_count": null,
   "metadata": {
    "executionInfo": {
     "elapsed": 225,
     "status": "ok",
     "timestamp": 1715885245462,
     "user": {
      "displayName": "Christian Oliva",
      "userId": "06496184645047625135"
     },
     "user_tz": -120
    },
    "id": "bDkeC879H4h2"
   },
   "outputs": [],
   "source": [
    "# Particion entrenamiento-test:\n",
    "x_train, x_test, t_train, t_test = train_test_split(x, t, test_size=0.33, random_state=42)\n",
    "x_train = x_train\n",
    "x_test = x_test\n",
    "t_train = t_train\n",
    "t_test = t_test"
   ]
  },
  {
   "cell_type": "code",
   "execution_count": null,
   "metadata": {
    "colab": {
     "base_uri": "https://localhost:8080/"
    },
    "executionInfo": {
     "elapsed": 5,
     "status": "ok",
     "timestamp": 1715885246162,
     "user": {
      "displayName": "Christian Oliva",
      "userId": "06496184645047625135"
     },
     "user_tz": -120
    },
    "id": "mBPtzA5NH9fM",
    "outputId": "abfd5d2c-dc00-4aac-fb03-cf07521f0e14"
   },
   "outputs": [],
   "source": [
    "print(x_train.shape)\n",
    "print(x_test.shape)\n",
    "print(t_train.shape)\n",
    "print(t_test.shape)"
   ]
  },
  {
   "cell_type": "code",
   "execution_count": null,
   "metadata": {
    "executionInfo": {
     "elapsed": 2,
     "status": "ok",
     "timestamp": 1715885248426,
     "user": {
      "displayName": "Christian Oliva",
      "userId": "06496184645047625135"
     },
     "user_tz": -120
    },
    "id": "2vAh9Gd4jfDi"
   },
   "outputs": [],
   "source": [
    "# Estandarizar los datos\n",
    "media = x_train.mean(axis=0, keepdims=True)\n",
    "std = x_train.std(axis=0, keepdims=True)\n",
    "\n",
    "x_train = (x_train - media) / std\n",
    "x_test = (x_test - media) / std # Se estandariza con la media y std de training"
   ]
  },
  {
   "cell_type": "markdown",
   "metadata": {
    "id": "Yp9qRELPIQwJ"
   },
   "source": [
    "Los siguientes ejercicios nos valdrán para comparar un modelo de regresión logística, que es equivalente a una red neuronal con cero capas ocultas y una única neurona de salida (ver notebook ``03_log_reg_exercise.ipynb``) con una red neuronal con mayor capacidad."
   ]
  },
  {
   "cell_type": "markdown",
   "metadata": {
    "id": "2XZNrQELIBSi"
   },
   "source": [
    "### <font color=\"#CA3532\">Ejercicio 5</font>\n",
    "\n",
    "5.1. Crear un modelo de red neuronal que aprenda a diferenciar la subespecie setosa de las demás subespecies del dataset.\n",
    "\n",
    "5.2. Visualizar la frontera de decisión del modelo."
   ]
  },
  {
   "cell_type": "code",
   "execution_count": null,
   "metadata": {
    "colab": {
     "base_uri": "https://localhost:8080/"
    },
    "executionInfo": {
     "elapsed": 353,
     "status": "ok",
     "timestamp": 1715885834281,
     "user": {
      "displayName": "Christian Oliva",
      "userId": "06496184645047625135"
     },
     "user_tz": -120
    },
    "id": "lNBgb4XLeLrZ",
    "outputId": "5c3dc364-7a62-4048-9d7d-b01ed3978757"
   },
   "outputs": [],
   "source": [
    "clase_setosa = np.where(iris.target_names == 'setosa')[0][0]\n",
    "clase_setosa"
   ]
  },
  {
   "cell_type": "code",
   "execution_count": null,
   "metadata": {
    "executionInfo": {
     "elapsed": 242,
     "status": "ok",
     "timestamp": 1715885875907,
     "user": {
      "displayName": "Christian Oliva",
      "userId": "06496184645047625135"
     },
     "user_tz": -120
    },
    "id": "xlkjGGX5xGtg"
   },
   "outputs": [],
   "source": [
    "x_train_e5 = x_train\n",
    "x_test_e5 = x_test\n",
    "\n",
    "# Tenemos que quedarnos con la clase setosa como clase target (1) y el resto reetiquetarlas como no-target (0).\n",
    "t_train_e5 = (t_train == clase_setosa) * 1\n",
    "t_test_e5 = (t_test == clase_setosa) * 1"
   ]
  },
  {
   "cell_type": "code",
   "execution_count": null,
   "metadata": {
    "colab": {
     "base_uri": "https://localhost:8080/",
     "height": 415
    },
    "executionInfo": {
     "elapsed": 979,
     "status": "ok",
     "timestamp": 1715885882814,
     "user": {
      "displayName": "Christian Oliva",
      "userId": "06496184645047625135"
     },
     "user_tz": -120
    },
    "id": "pVIlFFBexKXH",
    "outputId": "bfef94b3-586d-4a12-d5b1-a046b2cfb843"
   },
   "outputs": [],
   "source": [
    "plt.figure(figsize=(12, 4))\n",
    "plt.subplot(1,2,1)\n",
    "plt.title(\"Training\", size=18)\n",
    "plt.plot(x_train_e5[(t_train_e5==1)[:, 0], 0], x_train_e5[(t_train_e5==1)[:, 0], 1], 'o', label=iris.target_names[0], color='red')\n",
    "plt.plot(x_train_e5[(t_train_e5==0)[:, 0], 0], x_train_e5[(t_train_e5==0)[:, 0], 1], 'o', label=\"others\", color='blue')\n",
    "plt.xlabel(iris.feature_names[2])\n",
    "plt.ylabel(iris.feature_names[3])\n",
    "plt.grid(True)\n",
    "plt.legend(loc=2)\n",
    "\n",
    "plt.subplot(1,2,2)\n",
    "plt.title(\"Test\", size=18)\n",
    "plt.plot(x_test_e5[(t_test_e5==1)[:, 0], 0], x_test_e5[(t_test_e5==1)[:, 0], 1], 'o', label=iris.target_names[0], color='red')\n",
    "plt.plot(x_test_e5[(t_test_e5==0)[:, 0], 0], x_test_e5[(t_test_e5==0)[:, 0], 1], 'o', label=\"others\", color='blue')\n",
    "plt.xlabel(iris.feature_names[2])\n",
    "plt.ylabel(iris.feature_names[3])\n",
    "plt.grid(True)\n",
    "plt.legend(loc=2)\n",
    "plt.show()"
   ]
  },
  {
   "cell_type": "code",
   "execution_count": null,
   "metadata": {
    "executionInfo": {
     "elapsed": 21960,
     "status": "ok",
     "timestamp": 1715886127853,
     "user": {
      "displayName": "Christian Oliva",
      "userId": "06496184645047625135"
     },
     "user_tz": -120
    },
    "id": "TqddRNPtxOg2"
   },
   "outputs": [],
   "source": [
    "input_dim = x_train_e5.shape[1]\n",
    "output_dim = t_train_e5.shape[1]\n",
    "units = 500\n",
    "lr = 0.001\n",
    "n_iters = 2000\n",
    "\n",
    "model = Red_1capa(input_dim, units, output_dim)\n",
    "loss_train = []\n",
    "loss_test = []\n",
    "acc_train = []\n",
    "acc_test = []\n",
    "for i in range(n_iters):\n",
    "  model.gradient_step(x_train_e5, t_train_e5, lr)\n",
    "  loss_train.append(model.loss(x_train_e5, t_train_e5))\n",
    "  acc_train.append(model.accuracy(x_train_e5, t_train_e5))\n",
    "  loss_test.append(model.loss(x_test_e5, t_test_e5))\n",
    "  acc_test.append(model.accuracy(x_test_e5, t_test_e5))"
   ]
  },
  {
   "cell_type": "code",
   "execution_count": null,
   "metadata": {
    "colab": {
     "base_uri": "https://localhost:8080/",
     "height": 388
    },
    "executionInfo": {
     "elapsed": 709,
     "status": "ok",
     "timestamp": 1715886128560,
     "user": {
      "displayName": "Christian Oliva",
      "userId": "06496184645047625135"
     },
     "user_tz": -120
    },
    "id": "qrZZxcZZxg-q",
    "outputId": "0e2c7c9b-42de-43e2-97af-3d20e9df48fc"
   },
   "outputs": [],
   "source": [
    "plt.figure(figsize=(12, 4))\n",
    "plt.subplot(1, 2, 1)\n",
    "plt.plot(range(n_iters), loss_train, label=\"train\")\n",
    "plt.plot(range(n_iters), loss_test, label=\"test\")\n",
    "plt.grid(True)\n",
    "plt.xlabel(\"epoch\")\n",
    "plt.ylabel(\"loss\")\n",
    "plt.legend()\n",
    "\n",
    "plt.subplot(1,2,2)\n",
    "plt.plot(range(n_iters), acc_train, label=\"train\")\n",
    "plt.plot(range(n_iters), acc_test, label=\"test\")\n",
    "plt.grid(True)\n",
    "plt.xlabel(\"epoch\")\n",
    "plt.ylabel(\"acc\")\n",
    "plt.legend()\n",
    "plt.show()"
   ]
  },
  {
   "cell_type": "code",
   "execution_count": null,
   "metadata": {
    "colab": {
     "base_uri": "https://localhost:8080/"
    },
    "executionInfo": {
     "elapsed": 15,
     "status": "ok",
     "timestamp": 1715886128561,
     "user": {
      "displayName": "Christian Oliva",
      "userId": "06496184645047625135"
     },
     "user_tz": -120
    },
    "id": "l7a8k1cYxqi5",
    "outputId": "2ea02142-eafe-4525-c473-61da9310351b"
   },
   "outputs": [],
   "source": [
    "xx, yy = np.meshgrid(np.arange(x_train_e5[:, 0].min()-0.5, x_train_e5[:, 0].max()+0.5, 0.1),\n",
    "                     np.arange(x_train_e5[:, 1].min()-0.5, x_train_e5[:, 1].max()+0.5, 0.1))\n",
    "xy = np.concatenate([xx.reshape([-1, 1]), yy.reshape([-1, 1])],axis=1)\n",
    "xy.shape"
   ]
  },
  {
   "cell_type": "code",
   "execution_count": null,
   "metadata": {
    "colab": {
     "base_uri": "https://localhost:8080/"
    },
    "executionInfo": {
     "elapsed": 10,
     "status": "ok",
     "timestamp": 1715886128561,
     "user": {
      "displayName": "Christian Oliva",
      "userId": "06496184645047625135"
     },
     "user_tz": -120
    },
    "id": "VulN2yMjxs_U",
    "outputId": "12a2b374-f0a8-4ada-8761-79bc521a2ccd"
   },
   "outputs": [],
   "source": [
    "z = model.predict(xy)\n",
    "z.shape"
   ]
  },
  {
   "cell_type": "code",
   "execution_count": null,
   "metadata": {
    "colab": {
     "base_uri": "https://localhost:8080/",
     "height": 390
    },
    "executionInfo": {
     "elapsed": 638,
     "status": "ok",
     "timestamp": 1715886129194,
     "user": {
      "displayName": "Christian Oliva",
      "userId": "06496184645047625135"
     },
     "user_tz": -120
    },
    "id": "oeKNSa6wxtC-",
    "outputId": "945abf99-c5af-4ae5-f666-f138413bfc5b"
   },
   "outputs": [],
   "source": [
    "plt.figure(figsize=(8, 4))\n",
    "\n",
    "plt.contourf(xx, yy, z[:, 0].reshape(xx.shape), 100, cmap=\"bwr\", alpha=0.4, vmin=0.0, vmax=1.0)\n",
    "\n",
    "plt.plot(x_test_e5[t_test_e5.ravel()==0, 0], x_test_e5[t_test_e5.ravel()==0, 1], 'o', label=\"others\", color='blue')\n",
    "plt.plot(x_test_e5[t_test_e5.ravel()==1, 0], x_test_e5[t_test_e5.ravel()==1, 1], 'o', label=\"setosa\", color='red')\n",
    "\n",
    "plt.xlabel(iris.feature_names[2])\n",
    "plt.ylabel(iris.feature_names[3])\n",
    "plt.grid(True)\n",
    "plt.legend(loc=2)\n",
    "plt.colorbar()\n",
    "plt.show()"
   ]
  },
  {
   "cell_type": "markdown",
   "metadata": {
    "id": "gXSizSaXLHBU"
   },
   "source": [
    "### <font color=\"#CA3532\">Ejercicio 6</font>\n",
    "\n",
    "6.1. Crear un modelo de red neuronal que aprenda a diferenciar la subespecie versicolor de las demás subespecies del dataset.\n",
    "\n",
    "6.2. Visualizar la frontera de decisión del modelo."
   ]
  },
  {
   "cell_type": "code",
   "execution_count": null,
   "metadata": {
    "colab": {
     "base_uri": "https://localhost:8080/"
    },
    "executionInfo": {
     "elapsed": 238,
     "status": "ok",
     "timestamp": 1715886182708,
     "user": {
      "displayName": "Christian Oliva",
      "userId": "06496184645047625135"
     },
     "user_tz": -120
    },
    "id": "DxEyOIQTeNix",
    "outputId": "4f7c6081-a4e9-4a9c-b33f-63231d20cd05"
   },
   "outputs": [],
   "source": [
    "clase_versicolor = np.where(iris.target_names == 'versicolor')[0][0]\n",
    "clase_versicolor"
   ]
  },
  {
   "cell_type": "code",
   "execution_count": null,
   "metadata": {
    "executionInfo": {
     "elapsed": 237,
     "status": "ok",
     "timestamp": 1715886187213,
     "user": {
      "displayName": "Christian Oliva",
      "userId": "06496184645047625135"
     },
     "user_tz": -120
    },
    "id": "sN7wAXegyVSD"
   },
   "outputs": [],
   "source": [
    "x_train_e6 = x_train\n",
    "x_test_e6 = x_test\n",
    "\n",
    "# Tenemos que quedarnos con la clase versicolor como clase target (1) y el resto reetiquetarlas como no-target (0).\n",
    "t_train_e6 = (t_train == clase_versicolor) * 1\n",
    "t_test_e6 = (t_test == clase_versicolor) * 1"
   ]
  },
  {
   "cell_type": "code",
   "execution_count": null,
   "metadata": {
    "colab": {
     "base_uri": "https://localhost:8080/",
     "height": 415
    },
    "executionInfo": {
     "elapsed": 1141,
     "status": "ok",
     "timestamp": 1715886193308,
     "user": {
      "displayName": "Christian Oliva",
      "userId": "06496184645047625135"
     },
     "user_tz": -120
    },
    "id": "VEdEPODxyWbG",
    "outputId": "77d6a902-bcec-416c-f516-cfcf998fc20d"
   },
   "outputs": [],
   "source": [
    "plt.figure(figsize=(12, 4))\n",
    "plt.subplot(1,2,1)\n",
    "plt.title(\"Training\", size=18)\n",
    "plt.plot(x_train_e6[(t_train_e6==1)[:, 0], 0], x_train_e6[(t_train_e6==1)[:, 0], 1], 'o', label=iris.target_names[1], color='red')\n",
    "plt.plot(x_train_e6[(t_train_e6==0)[:, 0], 0], x_train_e6[(t_train_e6==0)[:, 0], 1], 'o', label=\"others\", color='blue')\n",
    "plt.xlabel(iris.feature_names[2])\n",
    "plt.ylabel(iris.feature_names[3])\n",
    "plt.grid(True)\n",
    "plt.legend(loc=2)\n",
    "\n",
    "plt.subplot(1,2,2)\n",
    "plt.title(\"Test\", size=18)\n",
    "plt.plot(x_test_e6[(t_test_e6==1)[:, 0], 0], x_test_e6[(t_test_e6==1)[:, 0], 1], 'o', label=iris.target_names[1], color='red')\n",
    "plt.plot(x_test_e6[(t_test_e6==0)[:, 0], 0], x_test_e6[(t_test_e6==0)[:, 0], 1], 'o', label=\"others\", color='blue')\n",
    "plt.xlabel(iris.feature_names[2])\n",
    "plt.ylabel(iris.feature_names[3])\n",
    "plt.grid(True)\n",
    "plt.legend(loc=2)\n",
    "plt.show()"
   ]
  },
  {
   "cell_type": "code",
   "execution_count": null,
   "metadata": {
    "executionInfo": {
     "elapsed": 4415,
     "status": "ok",
     "timestamp": 1715886372350,
     "user": {
      "displayName": "Christian Oliva",
      "userId": "06496184645047625135"
     },
     "user_tz": -120
    },
    "id": "sGz_ydy4yaa7"
   },
   "outputs": [],
   "source": [
    "input_dim = x_train_e6.shape[1]\n",
    "output_dim = t_train_e6.shape[1]\n",
    "units = 5\n",
    "lr = 0.001\n",
    "n_iters = 5000\n",
    "\n",
    "model = Red_1capa(input_dim, units, output_dim)\n",
    "loss_train = []\n",
    "loss_test = []\n",
    "acc_train = []\n",
    "acc_test = []\n",
    "for i in range(n_iters):\n",
    "  model.gradient_step(x_train_e6, t_train_e6, lr)\n",
    "  loss_train.append(model.loss(x_train_e6, t_train_e6))\n",
    "  acc_train.append(model.accuracy(x_train_e6, t_train_e6))\n",
    "  loss_test.append(model.loss(x_test_e6, t_test_e6))\n",
    "  acc_test.append(model.accuracy(x_test_e6, t_test_e6))"
   ]
  },
  {
   "cell_type": "code",
   "execution_count": null,
   "metadata": {
    "colab": {
     "base_uri": "https://localhost:8080/",
     "height": 388
    },
    "executionInfo": {
     "elapsed": 739,
     "status": "ok",
     "timestamp": 1715886373076,
     "user": {
      "displayName": "Christian Oliva",
      "userId": "06496184645047625135"
     },
     "user_tz": -120
    },
    "id": "ZrnkmJotyjlv",
    "outputId": "f6949427-1103-45b5-84ed-db4f1271cc8f"
   },
   "outputs": [],
   "source": [
    "plt.figure(figsize=(12, 4))\n",
    "plt.subplot(1, 2, 1)\n",
    "plt.plot(range(n_iters), loss_train, label=\"train\")\n",
    "plt.plot(range(n_iters), loss_test, label=\"test\")\n",
    "plt.grid(True)\n",
    "plt.xlabel(\"epoch\")\n",
    "plt.ylabel(\"loss\")\n",
    "plt.legend()\n",
    "\n",
    "plt.subplot(1,2,2)\n",
    "plt.plot(range(n_iters), acc_train, label=\"train\")\n",
    "plt.plot(range(n_iters), acc_test, label=\"test\")\n",
    "plt.grid(True)\n",
    "plt.xlabel(\"epoch\")\n",
    "plt.ylabel(\"acc\")\n",
    "plt.legend()\n",
    "plt.show()"
   ]
  },
  {
   "cell_type": "code",
   "execution_count": null,
   "metadata": {
    "colab": {
     "base_uri": "https://localhost:8080/"
    },
    "executionInfo": {
     "elapsed": 9,
     "status": "ok",
     "timestamp": 1715886373076,
     "user": {
      "displayName": "Christian Oliva",
      "userId": "06496184645047625135"
     },
     "user_tz": -120
    },
    "id": "4-IxJpoOyo8C",
    "outputId": "8ae1ec2f-bc00-4daf-8711-d859896b8d5a"
   },
   "outputs": [],
   "source": [
    "xx, yy = np.meshgrid(np.arange(x_train_e6[:, 0].min()-0.5, x_train_e6[:, 0].max()+0.5, 0.1),\n",
    "                     np.arange(x_train_e6[:, 1].min()-0.5, x_train_e6[:, 1].max()+0.5, 0.1))\n",
    "xy = np.concatenate([xx.reshape([-1, 1]), yy.reshape([-1, 1])],axis=1)\n",
    "xy.shape"
   ]
  },
  {
   "cell_type": "code",
   "execution_count": null,
   "metadata": {
    "colab": {
     "base_uri": "https://localhost:8080/"
    },
    "executionInfo": {
     "elapsed": 8,
     "status": "ok",
     "timestamp": 1715886373076,
     "user": {
      "displayName": "Christian Oliva",
      "userId": "06496184645047625135"
     },
     "user_tz": -120
    },
    "id": "sTHAkjH5ysU1",
    "outputId": "bf3996d3-89c2-41dc-dd4c-9237174ab42f"
   },
   "outputs": [],
   "source": [
    "z = model.predict(xy)\n",
    "z.shape"
   ]
  },
  {
   "cell_type": "code",
   "execution_count": null,
   "metadata": {
    "colab": {
     "base_uri": "https://localhost:8080/",
     "height": 390
    },
    "executionInfo": {
     "elapsed": 1012,
     "status": "ok",
     "timestamp": 1715886374083,
     "user": {
      "displayName": "Christian Oliva",
      "userId": "06496184645047625135"
     },
     "user_tz": -120
    },
    "id": "qsYAHkixytqB",
    "outputId": "afd2bf4b-94e2-4f6d-e3f6-e72fcf170583"
   },
   "outputs": [],
   "source": [
    "plt.figure(figsize=(8, 4))\n",
    "\n",
    "plt.contourf(xx, yy, z[:, 0].reshape(xx.shape), 100, cmap=\"bwr\", alpha=0.4, vmin=0.0, vmax=1.0)\n",
    "\n",
    "plt.plot(x_test_e6[t_test_e6.ravel()==0, 0], x_test_e6[t_test_e6.ravel()==0, 1], 'o', label=\"others\", color='blue')\n",
    "plt.plot(x_test_e6[t_test_e6.ravel()==1, 0], x_test_e6[t_test_e6.ravel()==1, 1], 'o', label=\"versicolor\", color='red')\n",
    "\n",
    "plt.xlabel(iris.feature_names[2])\n",
    "plt.ylabel(iris.feature_names[3])\n",
    "plt.grid(True)\n",
    "plt.legend(loc=2)\n",
    "plt.colorbar()\n",
    "plt.show()"
   ]
  },
  {
   "cell_type": "markdown",
   "metadata": {
    "id": "IyNmSb5JmLP-"
   },
   "source": [
    "### <font color=\"#CA3532\">Ejercicio 7</font>\n",
    "\n",
    "7.1. Implementar una red neuronal con dos capas ocultas para aprender a diferenciar la subespecie versicolor de las demás subespecies del dataset.\n",
    "\n",
    "7.2. Visualizar la frontera de decisión del modelo."
   ]
  },
  {
   "cell_type": "code",
   "execution_count": null,
   "metadata": {
    "executionInfo": {
     "elapsed": 232,
     "status": "ok",
     "timestamp": 1715886487206,
     "user": {
      "displayName": "Christian Oliva",
      "userId": "06496184645047625135"
     },
     "user_tz": -120
    },
    "id": "zCyJYu8FNleX"
   },
   "outputs": [],
   "source": [
    "class Red_2capas(object):\n",
    "\n",
    "    def __init__(self, d0=2, d1=10, d2=10, d3=1):\n",
    "        self.W1 = np.random.randn(d0, d1)\n",
    "        self.W2 = np.random.randn(d1, d2)\n",
    "        self.W3 = np.random.randn(d2, d3)\n",
    "        self.b1 = np.random.randn(d1)\n",
    "        self.b2 = np.random.randn(d2)\n",
    "        self.b3 = np.random.randn(d3)\n",
    "\n",
    "    def forward(self, x):\n",
    "        #----------------------------------------------------------\n",
    "        # TO-DO:\n",
    "        # x tiene que tener dimensiones (nxd0)\n",
    "        # Implementamos clasificacion\n",
    "        #----------------------------------------------------------\n",
    "        z1 = 0\n",
    "        a1 = 0\n",
    "        z2 = 0\n",
    "        a2 = 0\n",
    "        z3 = 0\n",
    "        y = 0\n",
    "\n",
    "        return z1, a1, z2, a2, z3, y\n",
    "\n",
    "    def backward(self, x, t):\n",
    "        z1, a1, z2, a2, z3, a3 = self.forward(x)\n",
    "\n",
    "        #----------------------------------------------------------\n",
    "        # TO-DO:\n",
    "        # x tiene que tener dimensiones (nxd0)\n",
    "        # t tiene que tener dimensiones (nxd3)\n",
    "        # Implementamos clasificacion, cross-entropy\n",
    "        #----------------------------------------------------------\n",
    "        db3 = 0\n",
    "        dW3 = 0\n",
    "        db2 = 0\n",
    "        dW2 = 0\n",
    "        db1 = 0\n",
    "        dW1 = 0\n",
    "\n",
    "        return dW1, db1, dW2, db2, dW3, db3\n",
    "\n",
    "    def gradient_step(self, x, t, eta):\n",
    "        dW1, db1, dW2, db2, dW3, db3 = self.backward(x, t)\n",
    "        self.W1 -= eta*dW1\n",
    "        self.b1 -= eta*db1\n",
    "        self.W2 -= eta*dW2\n",
    "        self.b2 -= eta*db2\n",
    "        self.W3 -= eta*dW3\n",
    "        self.b3 -= eta*db3\n",
    "\n",
    "    def predict(self, x):\n",
    "        _, _, _, _, _, y = self.forward(x)\n",
    "        return y\n",
    "\n",
    "    def loss(self, x, t):\n",
    "        y = self.predict(x)\n",
    "        return cross_entropy(y, t)\n",
    "\n",
    "    def accuracy(self, x, t):\n",
    "        y = self.predict(x)\n",
    "        return accuracy(y, t)"
   ]
  },
  {
   "cell_type": "code",
   "execution_count": null,
   "metadata": {
    "executionInfo": {
     "elapsed": 4679,
     "status": "ok",
     "timestamp": 1715886537387,
     "user": {
      "displayName": "Christian Oliva",
      "userId": "06496184645047625135"
     },
     "user_tz": -120
    },
    "id": "aBSZkbe9eWEm"
   },
   "outputs": [],
   "source": [
    "input_dim = x_train_e6.shape[1]\n",
    "output_dim = t_train_e6.shape[1]\n",
    "units_h1 = 10\n",
    "units_h2 = 5\n",
    "lr = 0.001\n",
    "n_iters = 5000\n",
    "\n",
    "model = Red_2capas(input_dim, units_h1, units_h2, output_dim)\n",
    "loss_train = []\n",
    "loss_test = []\n",
    "acc_train = []\n",
    "acc_test = []\n",
    "for i in range(n_iters):\n",
    "  model.gradient_step(x_train_e6, t_train_e6, lr)\n",
    "  loss_train.append(model.loss(x_train_e6, t_train_e6))\n",
    "  acc_train.append(model.accuracy(x_train_e6, t_train_e6))\n",
    "  loss_test.append(model.loss(x_test_e6, t_test_e6))\n",
    "  acc_test.append(model.accuracy(x_test_e6, t_test_e6))"
   ]
  },
  {
   "cell_type": "code",
   "execution_count": null,
   "metadata": {
    "colab": {
     "base_uri": "https://localhost:8080/",
     "height": 388
    },
    "executionInfo": {
     "elapsed": 1034,
     "status": "ok",
     "timestamp": 1715886548994,
     "user": {
      "displayName": "Christian Oliva",
      "userId": "06496184645047625135"
     },
     "user_tz": -120
    },
    "id": "dxgrOyqMzqwg",
    "outputId": "29ce9217-a878-4cf5-c77a-0ae032d45528"
   },
   "outputs": [],
   "source": [
    "plt.figure(figsize=(12, 4))\n",
    "plt.subplot(1, 2, 1)\n",
    "plt.plot(range(n_iters), loss_train, label=\"train\")\n",
    "plt.plot(range(n_iters), loss_test, label=\"test\")\n",
    "plt.grid(True)\n",
    "plt.xlabel(\"epoch\")\n",
    "plt.ylabel(\"loss\")\n",
    "plt.legend()\n",
    "\n",
    "plt.subplot(1,2,2)\n",
    "plt.plot(range(n_iters), acc_train, label=\"train\")\n",
    "plt.plot(range(n_iters), acc_test, label=\"test\")\n",
    "plt.grid(True)\n",
    "plt.xlabel(\"epoch\")\n",
    "plt.ylabel(\"acc\")\n",
    "plt.legend()\n",
    "plt.show()"
   ]
  },
  {
   "cell_type": "code",
   "execution_count": null,
   "metadata": {
    "colab": {
     "base_uri": "https://localhost:8080/"
    },
    "executionInfo": {
     "elapsed": 2,
     "status": "ok",
     "timestamp": 1715886564467,
     "user": {
      "displayName": "Christian Oliva",
      "userId": "06496184645047625135"
     },
     "user_tz": -120
    },
    "id": "SYehBP-dzvKB",
    "outputId": "ed797644-ebf7-4747-c99a-d42357af1981"
   },
   "outputs": [],
   "source": [
    "xx, yy = np.meshgrid(np.arange(x_train_e6[:, 0].min()-0.5, x_train_e6[:, 0].max()+0.5, 0.1),\n",
    "                     np.arange(x_train_e6[:, 1].min()-0.5, x_train_e6[:, 1].max()+0.5, 0.1))\n",
    "xy = np.concatenate([xx.reshape([-1, 1]), yy.reshape([-1, 1])],axis=1)\n",
    "xy.shape"
   ]
  },
  {
   "cell_type": "code",
   "execution_count": null,
   "metadata": {
    "colab": {
     "base_uri": "https://localhost:8080/"
    },
    "executionInfo": {
     "elapsed": 232,
     "status": "ok",
     "timestamp": 1715886568971,
     "user": {
      "displayName": "Christian Oliva",
      "userId": "06496184645047625135"
     },
     "user_tz": -120
    },
    "id": "NJE3kBEazygk",
    "outputId": "2e3fbd44-9a36-4467-8e97-0810cda4aa37"
   },
   "outputs": [],
   "source": [
    "z = model.predict(xy)\n",
    "z.shape"
   ]
  },
  {
   "cell_type": "code",
   "execution_count": null,
   "metadata": {
    "colab": {
     "base_uri": "https://localhost:8080/",
     "height": 389
    },
    "executionInfo": {
     "elapsed": 1119,
     "status": "ok",
     "timestamp": 1715886589345,
     "user": {
      "displayName": "Christian Oliva",
      "userId": "06496184645047625135"
     },
     "user_tz": -120
    },
    "id": "kkP4I-VkzzrB",
    "outputId": "d2d16ee9-1f22-4640-af39-3b522bc9cada"
   },
   "outputs": [],
   "source": [
    "plt.figure(figsize=(8, 4))\n",
    "\n",
    "plt.contourf(xx, yy, z[:, 0].reshape(xx.shape), 100, cmap=\"bwr\", alpha=0.4, vmin=0.0, vmax=1.0)\n",
    "\n",
    "plt.plot(x_test_e6[t_test_e6.ravel()==0, 0], x_test_e6[t_test_e6.ravel()==0, 1], 'o', label=\"others\", color='blue')\n",
    "plt.plot(x_test_e6[t_test_e6.ravel()==1, 0], x_test_e6[t_test_e6.ravel()==1, 1], 'o', label=\"versicolor\", color='red')\n",
    "\n",
    "plt.xlabel(iris.feature_names[2])\n",
    "plt.ylabel(iris.feature_names[3])\n",
    "plt.grid(True)\n",
    "plt.legend(loc=2)\n",
    "plt.colorbar()\n",
    "plt.show()"
   ]
  },
  {
   "cell_type": "markdown",
   "metadata": {
    "id": "IUDPBCvouH2j"
   },
   "source": [
    "### <font color=\"#CA3532\">Preguntas para el próximo día</font>\n",
    "\n",
    "¿Cómo podríamos diseñar una clase genérica de red neuronal con un número arbitrario de capas?\n",
    "\n",
    "¿Cómo podríamos construir un modelo que clasifique las tres clases?\n",
    "\n",
    "1. Con regresión logística, ¿qué podemos hacer?\n",
    "\n",
    "2. Con redes neuronales, ¿qué podemos hacer?\n",
    "\n",
    "¿Cómo podríamos hacer selección de atributos o explicar una red neuronal?"
   ]
  },
  {
   "cell_type": "code",
   "execution_count": null,
   "metadata": {
    "id": "LSi5EAH-k1cq"
   },
   "outputs": [],
   "source": []
  }
 ],
 "metadata": {
  "colab": {
   "provenance": [],
   "toc_visible": true
  },
  "kernelspec": {
   "display_name": "Python 3 (ipykernel)",
   "language": "python",
   "name": "python3"
  },
  "language_info": {
   "codemirror_mode": {
    "name": "ipython",
    "version": 3
   },
   "file_extension": ".py",
   "mimetype": "text/x-python",
   "name": "python",
   "nbconvert_exporter": "python",
   "pygments_lexer": "ipython3",
   "version": "3.11.5"
  }
 },
 "nbformat": 4,
 "nbformat_minor": 1
}
