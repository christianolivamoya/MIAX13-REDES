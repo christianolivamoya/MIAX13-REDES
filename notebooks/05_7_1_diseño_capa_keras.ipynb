{
 "cells": [
  {
   "cell_type": "markdown",
   "metadata": {
    "id": "Celp1iFaDqZi"
   },
   "source": [
    "# Construcción de tu propia capa en Keras"
   ]
  },
  {
   "cell_type": "markdown",
   "metadata": {
    "id": "RuGdNEfFDt6s"
   },
   "source": [
    "En este notebook vamos a construir una capa personalizada en Keras. Concretamente, vamos a diseñar una capa de regresión lineal donde, a los pesos, le aplicamos la función Softmax para que todos sean positivos y, además, sumen 1 directamente.\n",
    "\n",
    "Esto nos será útil para la construcción de carteras, replicar índices, etc."
   ]
  },
  {
   "cell_type": "code",
   "execution_count": null,
   "metadata": {
    "id": "bVXwm1aU15H-"
   },
   "outputs": [],
   "source": [
    "import tensorflow as tf\n",
    "import numpy as np\n",
    "import pandas as pd\n",
    "import matplotlib.pyplot as plt\n",
    "\n",
    "import yfinance as yf"
   ]
  },
  {
   "cell_type": "markdown",
   "metadata": {
    "id": "wl__265sD_Og"
   },
   "source": [
    "Para construir una capa de Keras, primero debemos comprender cómo funciona el código desde un punto de vista global. Se muestra una clase de ejemplo que define una capa Densa.\n",
    "\n",
    "- **build** es llamada al construir el modelo. Es la encargada de definir los pesos que deben ser entrenados.\n",
    "- **call** es la función que define la fase forward de la capa. Será llamada en el fit, en el predict, etc. etc."
   ]
  },
  {
   "cell_type": "code",
   "execution_count": null,
   "metadata": {
    "id": "nNp0ptfVEPLj"
   },
   "outputs": [],
   "source": [
    "class MiCapaDense(tf.keras.layers.Layer):\n",
    "    def __init__(self, unidades=32, **kwargs):\n",
    "        super(MiCapaDense, self).__init__(**kwargs)\n",
    "        self.unidades = unidades\n",
    "\n",
    "    # La función build es la encargada de definir los pesos que deben ser entrenados\n",
    "    def build(self, input_shape):\n",
    "        self.w = self.add_weight(shape=(input_shape[-1], self.unidades),\n",
    "                                 initializer='random_normal',\n",
    "                                 trainable=True)\n",
    "        self.b = self.add_weight(shape=(self.unidades,),\n",
    "                                 initializer='zeros',\n",
    "                                 trainable=True)\n",
    "\n",
    "    # La función call define la fase forward de la capa\n",
    "    def call(self, inputs):\n",
    "        return inputs @ self.w + self.b"
   ]
  },
  {
   "cell_type": "markdown",
   "metadata": {
    "id": "wIGvqZJBE7W3"
   },
   "source": [
    "Una vez hemos entendido cómo construir una capa custom, podemos hacer lo que queramos. Concretamente, vamos a diseñar una capa que transforme los pesos *w* para que sumen 1 y todos sean positivos."
   ]
  },
  {
   "cell_type": "code",
   "execution_count": null,
   "metadata": {
    "id": "cTERCFjG19rV"
   },
   "outputs": [],
   "source": [
    "class RegLinealSoftmax(tf.keras.layers.Layer):\n",
    "    def __init__(self, **kwargs):\n",
    "        super(RegLinealSoftmax, self).__init__(**kwargs)\n",
    "\n",
    "    # La función build es la encargada de definir los pesos que deben ser entrenados\n",
    "    def build(self, input_shape):\n",
    "        self.w = self.add_weight(shape=(input_shape[-1], 1),\n",
    "                                 initializer='random_normal',\n",
    "                                 trainable=True)\n",
    "\n",
    "    # La función call define la fase forward de la capa\n",
    "    def call(self, inputs):\n",
    "        return inputs @ self.get_pesos()\n",
    "\n",
    "    # Esta función es mía, para calcular a mano softmax\n",
    "    def get_pesos(self):\n",
    "        return tf.nn.softmax(self.w, axis=0)"
   ]
  },
  {
   "cell_type": "code",
   "execution_count": null,
   "metadata": {
    "id": "i7Ra6HL72iKb"
   },
   "outputs": [],
   "source": [
    "lista_activos = ['A', 'AAPL', 'ABBV', 'ABT', 'ACN', 'ADBE', 'ADM', 'ADSK',\n",
    "                 'AEE', 'AEP', 'AES', 'AFL', 'AIG', 'AIZ', 'AKAM', 'ALL', 'ALLE',\n",
    "                 'AMAT', 'AME', 'AMGN', 'AMP', 'AMT', 'AMZN', 'AON', 'APA', 'APD',\n",
    "                 'APH', 'APTV', 'AVB', 'AVGO', 'AVY', 'AXP', 'AZO', 'BA', 'BAC',\n",
    "                 'BALL', 'BAX', 'BBWI', 'BBY', 'BDX', 'BEN', 'BK', 'BKNG',\n",
    "                 'BLK', 'BMY', 'BSX', 'BWA', 'BXP', 'C', 'CAG', 'CAH',\n",
    "                 'CAT', 'CB', 'CBRE', 'CCI', 'CCL', 'CF', 'CHRW', 'CI', 'CINF',\n",
    "                 'CL', 'CLX', 'CMA', 'CMCSA', 'CMG', 'CMI', 'CMS', 'CNP', 'COF',\n",
    "                 'COP', 'COST', 'CPB', 'CRM', 'CSCO', 'CTAS', 'CTRA', 'CTSH',\n",
    "                 'CVS', 'CVX', 'D', 'DAL', 'DE', 'DFS', 'DG', 'DGX', 'DHI', 'DHR',\n",
    "                 'DIS', 'DLTR', 'DOV', 'DRI', 'DTE', 'DUK', 'DVA', 'EA', 'EBAY',\n",
    "                 'ECL', 'ED', 'EFX', 'EIX', 'EL', 'ELV', 'EMN', 'EMR', 'EOG', 'EQR',\n",
    "                 'EQT', 'ES', 'ESS', 'ETN', 'ETR', 'EW', 'EXC', 'EXPD', 'EXPE', 'F',\n",
    "                 'FAST', 'FCX', 'FDX', 'FE', 'FFIV', 'FI', 'FIS', 'FITB', 'FMC',\n",
    "                 'FSLR', 'GD', 'GE', 'GEN', 'GILD', 'GIS', 'GL', 'GLW', 'GM', 'GOOG',\n",
    "                 'GOOGL', 'GPC', 'GS', 'GWW', 'HAL', 'HAS', 'HBAN', 'HD', 'HES', 'HIG',\n",
    "                 'HON', 'HPQ', 'HRL', 'HST', 'HSY', 'HUM', 'IBM', 'ICE', 'IFF', 'INTC',\n",
    "                 'INTU', 'IP', 'IPG', 'IRM', 'ISRG', 'ITW', 'IVZ', 'JCI', 'JNJ',\n",
    "                 'JNPR', 'JPM', 'K', 'KDP', 'KEY', 'KIM', 'KLAC', 'KMB', 'KMI', 'KMX',\n",
    "                 'KO', 'KR', 'L', 'LDOS', 'LEN', 'LH', 'LHX', 'LLY', 'LMT', 'LNC',\n",
    "                 'LOW', 'LRCX', 'LUV', 'LYB', 'MA', 'MAS', 'MCD', 'MCHP', 'MCK', 'MCO',\n",
    "                 'MDT', 'MET', 'META', 'MHK', 'MKC', 'MLM', 'MMC', 'MMM', 'MO', 'MOS',\n",
    "                 'MPC', 'MRK', 'MS', 'MSFT', 'MSI', 'MTB', 'NDAQ', 'NEE', 'NEM',\n",
    "                 'NFLX', 'NI', 'NKE', 'NOC', 'NRG', 'NSC', 'NTAP', 'NTRS', 'NUE',\n",
    "                 'NVDA', 'NWL', 'NWSA', 'OKE', 'OMC', 'ORCL', 'ORLY', 'OXY', 'PARA',\n",
    "                 'PAYX', 'PCAR', 'PCG', 'PEG', 'PFE', 'PG', 'PGR', 'PH', 'PHM',\n",
    "                 'PLD', 'PM', 'PNC', 'PNR', 'PNW', 'PPG', 'PPL', 'PRU', 'PSA', 'PSX',\n",
    "                 'PTC', 'PWR', 'QCOM', 'RCL', 'RF', 'RHI', 'RL', 'ROK', 'ROP',\n",
    "                 'ROST', 'RSG', 'RTX', 'RVTY', 'SBUX', 'SCHW', 'SEE', 'SHW', 'SJM',\n",
    "                 'SLB', 'SNA', 'SO', 'SPG', 'SPGI', 'SRE', 'STT', 'STX', 'STZ', 'SWK',\n",
    "                 'SYK', 'SYY', 'T', 'TAP', 'TEL', 'TFC', 'TGT', 'TJX', 'TMO', 'TPR',\n",
    "                 'TROW', 'TRV', 'TSCO', 'TSN', 'TT', 'TXT', 'UHS', 'UNH', 'UNP', 'UPS',\n",
    "                 'URI', 'USB', 'V', 'VFC', 'VLO', 'VMC', 'VRSN', 'VTR', 'VZ', 'WAT',\n",
    "                 'WEC', 'WELL', 'WFC', 'WHR', 'WM', 'WMB', 'WMT', 'WY', 'WYNN', 'XOM',\n",
    "                 'XRAY', 'XYL', 'YUM', 'ZBH', 'ZION', 'ZTS']"
   ]
  },
  {
   "cell_type": "code",
   "execution_count": null,
   "metadata": {
    "colab": {
     "base_uri": "https://localhost:8080/"
    },
    "id": "IWkos77g2hyC",
    "outputId": "b05af780-8962-4ec8-f928-8747b9fe1ddd"
   },
   "outputs": [],
   "source": [
    "precios = yf.download(lista_activos, start=\"2022-01-01\", end=\"2023-01-01\")[\"Close\"]\n",
    "retornos = np.log(precios).diff().dropna()"
   ]
  },
  {
   "cell_type": "code",
   "execution_count": null,
   "metadata": {
    "colab": {
     "base_uri": "https://localhost:8080/"
    },
    "id": "5J0iBs7q20f9",
    "outputId": "ebd7e470-5f57-4f8f-ca33-a68146872adf"
   },
   "outputs": [],
   "source": [
    "precios_sp500 = yf.download(\"SPY\", start=\"2022-01-01\", end=\"2023-01-01\")[\"Close\"]\n",
    "retornos_sp500 = np.log(precios_sp500).diff().dropna()"
   ]
  },
  {
   "cell_type": "code",
   "execution_count": null,
   "metadata": {
    "id": "q8CduDUR2-GX"
   },
   "outputs": [],
   "source": [
    "def build_model(input_dim, optimizer=\"SGD\"):\n",
    "  input_layer = tf.keras.layers.Input(shape=(input_dim,))\n",
    "  output_layer = RegLinealSoftmax()(input_layer)\n",
    "\n",
    "  model = tf.keras.Model(inputs=input_layer, outputs=output_layer)\n",
    "  model.compile(loss=\"mse\", optimizer=optimizer)\n",
    "  return model"
   ]
  },
  {
   "cell_type": "code",
   "execution_count": null,
   "metadata": {
    "colab": {
     "base_uri": "https://localhost:8080/",
     "height": 213
    },
    "id": "pVdwU7nA3W8K",
    "outputId": "45830837-d64b-49a2-c619-4fadda5d1ed4"
   },
   "outputs": [],
   "source": [
    "model = build_model(len(lista_activos), optimizer=\"Adam\")\n",
    "model.summary()"
   ]
  },
  {
   "cell_type": "code",
   "execution_count": null,
   "metadata": {
    "colab": {
     "base_uri": "https://localhost:8080/"
    },
    "id": "eXkw0mxq3aCS",
    "outputId": "e8094e8f-c2df-4068-df88-95853e55b08b"
   },
   "outputs": [],
   "source": [
    "num_epochs = 1000\n",
    "hist = model.fit(retornos, retornos_sp500, epochs=num_epochs)"
   ]
  },
  {
   "cell_type": "code",
   "execution_count": null,
   "metadata": {
    "colab": {
     "base_uri": "https://localhost:8080/",
     "height": 462
    },
    "id": "uEY8KKva3sB5",
    "outputId": "b00fb938-7181-4483-db32-a414f1539505"
   },
   "outputs": [],
   "source": [
    "plt.plot(hist.history[\"loss\"])"
   ]
  },
  {
   "cell_type": "code",
   "execution_count": null,
   "metadata": {
    "colab": {
     "base_uri": "https://localhost:8080/"
    },
    "id": "o5ENTpDTfhOg",
    "outputId": "c5165d71-9e33-491d-e526-0f431ff780d4"
   },
   "outputs": [],
   "source": [
    "model.layers[1]"
   ]
  },
  {
   "cell_type": "code",
   "execution_count": null,
   "metadata": {
    "colab": {
     "base_uri": "https://localhost:8080/"
    },
    "id": "cT9NwYOc3_wU",
    "outputId": "80a43c93-f7bf-4c00-d69f-0ee16eff952b"
   },
   "outputs": [],
   "source": [
    "pesos = model.layers[1].get_pesos().numpy()\n",
    "pesos.sum()"
   ]
  },
  {
   "cell_type": "code",
   "execution_count": null,
   "metadata": {
    "colab": {
     "base_uri": "https://localhost:8080/",
     "height": 447
    },
    "id": "xVhMYW_25mOl",
    "outputId": "63ff312e-f3eb-453f-d193-78ae01272722"
   },
   "outputs": [],
   "source": [
    "plt.bar(range(len(pesos)), pesos[:, 0])"
   ]
  },
  {
   "cell_type": "code",
   "execution_count": null,
   "metadata": {
    "colab": {
     "base_uri": "https://localhost:8080/"
    },
    "id": "MiPplv_p37dp",
    "outputId": "887ae360-f83e-4595-98bf-e50951c87a7b"
   },
   "outputs": [],
   "source": [
    "retornos_cartera = (retornos @ pesos)[0]\n",
    "retornos_cartera.shape"
   ]
  },
  {
   "cell_type": "code",
   "execution_count": null,
   "metadata": {
    "colab": {
     "base_uri": "https://localhost:8080/"
    },
    "id": "G4RKwALV5arg",
    "outputId": "0705bb2c-a80f-47c9-e168-a73dd1389d61"
   },
   "outputs": [],
   "source": [
    "retornos_sp500.shape"
   ]
  },
  {
   "cell_type": "code",
   "execution_count": null,
   "metadata": {
    "colab": {
     "base_uri": "https://localhost:8080/",
     "height": 430
    },
    "id": "XCkXJT1j5b69",
    "outputId": "8593d90c-09e3-4aac-fd08-89501308e64a"
   },
   "outputs": [],
   "source": [
    "plt.plot(retornos_cartera.cumsum(), label=\"Cartera\")\n",
    "plt.plot(retornos_sp500.cumsum(), label=\"SP500\")\n",
    "plt.legend()\n",
    "plt.show()"
   ]
  },
  {
   "cell_type": "code",
   "execution_count": null,
   "metadata": {
    "colab": {
     "base_uri": "https://localhost:8080/"
    },
    "id": "bvmXAScR8_mY",
    "outputId": "dfa7c838-1ee7-4cf5-da71-172ad50cf537"
   },
   "outputs": [],
   "source": [
    "pesos = model.layers[1].get_pesos().numpy()\n",
    "retornos.columns.values[np.where(pesos[:, 0] > 0.01)[0]]"
   ]
  },
  {
   "cell_type": "code",
   "execution_count": null,
   "metadata": {
    "id": "uIn_9G3G8gKc"
   },
   "outputs": [],
   "source": []
  }
 ],
 "metadata": {
  "colab": {
   "provenance": [],
   "toc_visible": true
  },
  "kernelspec": {
   "display_name": "Python 3 (ipykernel)",
   "language": "python",
   "name": "python3"
  },
  "language_info": {
   "codemirror_mode": {
    "name": "ipython",
    "version": 3
   },
   "file_extension": ".py",
   "mimetype": "text/x-python",
   "name": "python",
   "nbconvert_exporter": "python",
   "pygments_lexer": "ipython3",
   "version": "3.11.5"
  }
 },
 "nbformat": 4,
 "nbformat_minor": 1
}
